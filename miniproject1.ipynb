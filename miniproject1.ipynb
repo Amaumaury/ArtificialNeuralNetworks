{
 "cells": [
  {
   "cell_type": "markdown",
   "metadata": {},
   "source": [
    "# Miniproject 1: Image Classification\n",
    "\n",
    "## Introduction\n",
    "\n",
    "### Description\n",
    "\n",
    "One of the deepest traditions in learning about deep learning is to first [tackle the exciting problem of MNIST classification](http://deeplearning.net/tutorial/logreg.html). [The MNIST database](https://en.wikipedia.org/wiki/MNIST_database) (Modified National Institute of Standards and Technology database) is a large database of handwritten digits that was [recently extended](https://arxiv.org/abs/1702.05373). We break with this tradition (just a little bit) and tackle first the related problem of classifying cropped, downsampled and grayscaled images of house numbers in the [The Street View House Numbers (SVHN) Dataset](http://ufldl.stanford.edu/housenumbers/).\n",
    "\n",
    "\n",
    "### Prerequisites\n",
    "\n",
    "- You should have a running installation of [tensorflow](https://www.tensorflow.org/install/) and [keras](https://keras.io/).\n",
    "- You should know the concepts \"multilayer perceptron\", \"stochastic gradient descent with minibatches\", \"training and validation data\", \"overfitting\" and \"early stopping\".\n",
    "\n",
    "### What you will learn\n",
    "\n",
    "- You will learn how to define feedforward neural networks in keras and fit them to data.\n",
    "- You will be guided through a prototyping procedure for the application of deep learning to a specific domain.\n",
    "- You will get in contact with concepts discussed later in the lecture, like \"regularization\", \"batch normalization\" and \"convolutional networks\".\n",
    "- You will gain some experience on the influence of network architecture, optimizer and regularization choices on the goodness of fit.\n",
    "- You will learn to be more patient :) Some fits may take your computer quite a bit of time; run them over night.\n",
    "\n",
    "### Evaluation criteria\n",
    "\n",
    "The evaluation is (mostly) based on the figures you submit and your answer sentences. \n",
    "We will only do random tests of your code and not re-run the full notebook.\n",
    "\n",
    "### Your names\n",
    "\n",
    "Before you start, please enter your full name(s) in the field below; they are used to load the data. The variable student2 may remain empty, if you work alone."
   ]
  },
  {
   "cell_type": "code",
   "execution_count": 1,
   "metadata": {
    "ExecuteTime": {
     "end_time": "2018-03-09T09:08:24.514461Z",
     "start_time": "2018-03-09T09:08:24.506410Z"
    },
    "collapsed": true
   },
   "outputs": [],
   "source": [
    "student1 = \"Amaury Combes\"\n",
    "student2 = \"Vincenzo Bazzucchi\""
   ]
  },
  {
   "cell_type": "markdown",
   "metadata": {},
   "source": [
    "## Some helper functions\n",
    "\n",
    "For your convenience we provide here some functions to preprocess the data and plot the results later. Simply run the following cells with `Shift-Enter`.\n",
    "\n",
    "### Dependencies and constants"
   ]
  },
  {
   "cell_type": "code",
   "execution_count": 45,
   "metadata": {
    "ExecuteTime": {
     "end_time": "2018-03-09T09:09:16.113721Z",
     "start_time": "2018-03-09T09:09:16.100520Z"
    }
   },
   "outputs": [],
   "source": [
    "import numpy as np\n",
    "import time\n",
    "import matplotlib.pyplot as plt\n",
    "import scipy.io\n",
    "\n",
    "import keras\n",
    "from keras.models import Sequential\n",
    "from keras.layers import Dense, Conv2D, MaxPooling2D, Dropout, Flatten\n",
    "from keras.optimizers import SGD, Adam\n",
    "\n",
    "import itertools\n",
    "\n",
    "# you may experiment with different subsets, \n",
    "# but make sure in the submission \n",
    "# it is generated with the correct random seed for all exercises.\n",
    "np.random.seed(hash(student1 + student2) % 2**32)\n",
    "subset_of_classes = np.random.choice(range(10), 5, replace = False)"
   ]
  },
  {
   "cell_type": "markdown",
   "metadata": {},
   "source": [
    "### Plotting"
   ]
  },
  {
   "cell_type": "code",
   "execution_count": 3,
   "metadata": {
    "collapsed": true
   },
   "outputs": [],
   "source": [
    "from pylab import rcParams\n",
    "rcParams['figure.figsize'] = 10, 6\n",
    "def plot_some_samples(x, y = [], yhat = [], select_from = [], \n",
    "                      ncols = 6, nrows = 4, xdim = 16, ydim = 16,\n",
    "                      label_mapping = range(10)):\n",
    "    \"\"\"plot some input vectors as grayscale images (optionally together with their assigned or predicted labels).\n",
    "    \n",
    "    x is an NxD - dimensional array, where D is the length of an input vector and N is the number of samples.\n",
    "    Out of the N samples, ncols x nrows indices are randomly selected from the list select_from (if it is empty, select_from becomes range(N)).\n",
    "    \n",
    "    Keyword arguments:\n",
    "    y             -- corresponding labels to plot in green below each image.\n",
    "    yhat          -- corresponding predicted labels to plot in red below each image.\n",
    "    select_from   -- list of indices from which to select the images.\n",
    "    ncols, nrows  -- number of columns and rows to plot.\n",
    "    xdim, ydim    -- number of pixels of the images in x- and y-direction.\n",
    "    label_mapping -- map labels to digits.\n",
    "    \n",
    "    \"\"\"\n",
    "    fig, ax = plt.subplots(nrows, ncols)\n",
    "    if len(select_from) == 0:\n",
    "        select_from = range(x.shape[0])\n",
    "    indices = np.random.choice(select_from, size = min(ncols * nrows, len(select_from)), replace = False)\n",
    "    for i, ind in enumerate(indices):\n",
    "        thisax = ax[i//ncols,i%ncols]\n",
    "        thisax.matshow(x[ind].reshape(xdim, ydim), cmap='gray')\n",
    "        thisax.set_axis_off()\n",
    "        if len(y) != 0:\n",
    "            j = y[ind] if type(y[ind]) != np.ndarray else y[ind].argmax()\n",
    "            thisax.text(0, 0, (label_mapping[j]+1)%10, color='green', \n",
    "                                                       verticalalignment='top',\n",
    "                                                       transform=thisax.transAxes)\n",
    "        if len(yhat) != 0:\n",
    "            k = yhat[ind] if type(yhat[ind]) != np.ndarray else yhat[ind].argmax()\n",
    "            thisax.text(1, 0, (label_mapping[k]+1)%10, color='red',\n",
    "                                             verticalalignment='top',\n",
    "                                             horizontalalignment='right',\n",
    "                                             transform=thisax.transAxes)\n",
    "    return fig\n",
    "\n",
    "def prepare_standardplot(title, xlabel):\n",
    "    fig, (ax1, ax2) = plt.subplots(1, 2)\n",
    "    fig.suptitle(title)\n",
    "    ax1.set_ylabel('categorical cross entropy')\n",
    "    ax1.set_xlabel(xlabel)\n",
    "    ax1.set_yscale('log')\n",
    "    ax2.set_ylabel('accuracy [% correct]')\n",
    "    ax2.set_xlabel(xlabel)\n",
    "    return fig, ax1, ax2\n",
    "\n",
    "def finalize_standardplot(fig, ax1, ax2):\n",
    "    ax1handles, ax1labels = ax1.get_legend_handles_labels()\n",
    "    if len(ax1labels) > 0:\n",
    "        ax1.legend(ax1handles, ax1labels)\n",
    "    ax2handles, ax2labels = ax2.get_legend_handles_labels()\n",
    "    if len(ax2labels) > 0:\n",
    "        ax2.legend(ax2handles, ax2labels)\n",
    "    fig.tight_layout()\n",
    "    plt.subplots_adjust(top=0.9)\n",
    "\n",
    "def plot_history(history, title):\n",
    "    fig, ax1, ax2 = prepare_standardplot(title, 'epoch')\n",
    "    ax1.plot(history.history['loss'], label = \"training\")\n",
    "    ax1.plot(history.history['val_loss'], label = \"validation\")\n",
    "    ax2.plot(history.history['acc'], label = \"training\")\n",
    "    ax2.plot(history.history['val_acc'], label = \"validation\")\n",
    "    finalize_standardplot(fig, ax1, ax2)\n",
    "    return fig\n"
   ]
  },
  {
   "cell_type": "markdown",
   "metadata": {},
   "source": [
    "### Loading and preprocessing the data\n",
    "\n",
    "The data consists of RGB color images with 32x32 pixels, loaded into an array of dimension 32x32x3x(number of images). We convert them to grayscale (using [this method](https://en.wikipedia.org/wiki/SRGB#The_reverse_transformation)) and we downsample them to images of 16x16 pixels by averaging over patches of 2x2 pixels.\n",
    "\n",
    "With these preprocessing steps we obviously remove some information that could be helpful in classifying the images. But, since the processed data is much lower dimensional, the fitting procedures converge faster. This is an advantage in situations like here (or generally when prototyping), were we want to try many different things without having to wait too long for computations to finish. After having gained some experience, one may want to go back to work on the 32x32 RGB images.\n"
   ]
  },
  {
   "cell_type": "code",
   "execution_count": 4,
   "metadata": {
    "collapsed": true
   },
   "outputs": [],
   "source": [
    "# convert RGB images x to grayscale using the formula for Y_linear in https://en.wikipedia.org/wiki/Grayscale#Colorimetric_(perceptual_luminance-preserving)_conversion_to_grayscale\n",
    "def grayscale(x):\n",
    "    x = x.astype('float32')/255\n",
    "    x = np.piecewise(x, [x <= 0.04045, x > 0.04045], \n",
    "                        [lambda x: x/12.92, lambda x: ((x + .055)/1.055)**2.4])\n",
    "    return .2126 * x[:,:,0,:] + .7152 * x[:,:,1,:]  + .07152 * x[:,:,2,:]\n",
    "\n",
    "def downsample(x):\n",
    "    return sum([x[i::2,j::2,:] for i in range(2) for j in range(2)])/4\n",
    "\n",
    "def preprocess(data):\n",
    "    gray = grayscale(data['X'])\n",
    "    downsampled = downsample(gray)\n",
    "    return (downsampled.reshape(16*16, gray.shape[2]).transpose(),\n",
    "            data['y'].flatten() - 1)\n",
    "\n",
    "\n",
    "data_train = scipy.io.loadmat('housenumbers/train_32x32.mat')\n",
    "data_test = scipy.io.loadmat('housenumbers/test_32x32.mat')\n",
    "\n",
    "x_train_all, y_train_all = preprocess(data_train)\n",
    "x_test_all, y_test_all = preprocess(data_test)"
   ]
  },
  {
   "cell_type": "markdown",
   "metadata": {},
   "source": [
    "### Selecting a subset of classes\n",
    "\n",
    "We furter reduce the size of the dataset (and thus reduce computation time) by selecting only the 5 (out of 10 digits) in subset_of_classes."
   ]
  },
  {
   "cell_type": "code",
   "execution_count": 5,
   "metadata": {
    "collapsed": true
   },
   "outputs": [],
   "source": [
    "def extract_classes(x, y, classes):\n",
    "    indices = []\n",
    "    labels = []\n",
    "    count = 0\n",
    "    for c in classes:\n",
    "        tmp = np.where(y == c)[0]\n",
    "        indices.extend(tmp)\n",
    "        labels.extend(np.ones(len(tmp), dtype='uint8') * count)\n",
    "        count += 1\n",
    "    return x[indices], labels\n",
    "\n",
    "x_train, y_train = extract_classes(x_train_all, y_train_all, subset_of_classes)\n",
    "x_test, y_test = extract_classes(x_test_all, y_test_all, subset_of_classes)"
   ]
  },
  {
   "cell_type": "markdown",
   "metadata": {},
   "source": [
    "Let us plot some examples now. The green digit at the bottom left of each image indicates the corresponding label in y_test.\n",
    "For further usage of the function plot_some_samples, please have a look at its definition in the plotting section."
   ]
  },
  {
   "cell_type": "code",
   "execution_count": 6,
   "metadata": {},
   "outputs": [
    {
     "data": {
      "text/plain": [
       "(13168, 256)"
      ]
     },
     "execution_count": 6,
     "metadata": {},
     "output_type": "execute_result"
    }
   ],
   "source": [
    "x_test.shape"
   ]
  },
  {
   "cell_type": "code",
   "execution_count": 7,
   "metadata": {
    "collapsed": true,
    "scrolled": false
   },
   "outputs": [],
   "source": [
    "plot_some_samples(x_test, y_test, label_mapping = subset_of_classes);"
   ]
  },
  {
   "cell_type": "markdown",
   "metadata": {},
   "source": [
    "To prepare for fitting we transform the labels to one hot coding, i.e. for 5 classes, label 2 becomes the vector [0, 0, 1, 0, 0] (python uses 0-indexing)."
   ]
  },
  {
   "cell_type": "code",
   "execution_count": 8,
   "metadata": {
    "collapsed": true
   },
   "outputs": [],
   "source": [
    "y_train = keras.utils.to_categorical(y_train)\n",
    "y_test = keras.utils.to_categorical(y_test)"
   ]
  },
  {
   "cell_type": "markdown",
   "metadata": {},
   "source": [
    "## Exercise 1: No hidden layer\n",
    "\n",
    "### Description\n",
    "\n",
    "Define and fit a model without a hidden layer. \n",
    "\n",
    "1. Use the softmax activation for the output layer.\n",
    "2. Use the categorical_crossentropy loss.\n",
    "3. Add the accuracy metric to the metrics.\n",
    "4. Choose stochastic gradient descent for the optimizer.\n",
    "5. Choose a minibatch size of 128.\n",
    "6. Fit for as many epochs as needed to see no further decrease in the validation loss.\n",
    "7. Plot the output of the fitting procedure (a history object) using the function plot_history defined above.\n",
    "8. Determine the indices of all test images that are misclassified by the fitted model and plot some of them using the function \n",
    "   `plot_some_samples(x_test, y_test, yhat_test, error_indices, label_mapping = subset_of_classes)`\n",
    "\n",
    "\n",
    "Hints:\n",
    "* Read the keras docs, in particular [Getting started with the Keras Sequential model](https://keras.io/getting-started/sequential-model-guide/).\n",
    "* Have a look at the keras [examples](https://github.com/keras-team/keras/tree/master/examples), e.g. [mnist_mlp](https://github.com/keras-team/keras/blob/master/examples/mnist_mlp.py)."
   ]
  },
  {
   "cell_type": "markdown",
   "metadata": {},
   "source": [
    "### Solution"
   ]
  },
  {
   "cell_type": "markdown",
   "metadata": {},
   "source": [
    "Here we use the `EarlyStopping` callback to ensure point 7: it will stop the learning process when the validation loss stops decreasing for 5 iterations"
   ]
  },
  {
   "cell_type": "code",
   "execution_count": 54,
   "metadata": {},
   "outputs": [
    {
     "name": "stdout",
     "output_type": "stream",
     "text": [
      "Train on 43715 samples, validate on 15767 samples\n",
      "Epoch 1/9999999999\n",
      "43715/43715 [==============================] - 1s 26us/step - loss: 1.5469 - acc: 0.3180 - val_loss: 1.5311 - val_acc: 0.3419\n",
      "Epoch 2/9999999999\n",
      "43715/43715 [==============================] - 1s 13us/step - loss: 1.5240 - acc: 0.3442 - val_loss: 1.5206 - val_acc: 0.3473\n",
      "Epoch 3/9999999999\n",
      "43715/43715 [==============================] - 1s 12us/step - loss: 1.5146 - acc: 0.3565 - val_loss: 1.5481 - val_acc: 0.3284\n",
      "Epoch 4/9999999999\n",
      "43715/43715 [==============================] - 1s 12us/step - loss: 1.5088 - acc: 0.3649 - val_loss: 1.5240 - val_acc: 0.3498\n",
      "Epoch 5/9999999999\n",
      "43715/43715 [==============================] - 1s 14us/step - loss: 1.5051 - acc: 0.3720 - val_loss: 1.5240 - val_acc: 0.3567\n",
      "Epoch 6/9999999999\n",
      "43715/43715 [==============================] - 1s 13us/step - loss: 1.5020 - acc: 0.3752 - val_loss: 1.5310 - val_acc: 0.3677\n",
      "Epoch 7/9999999999\n",
      "43715/43715 [==============================] - 1s 13us/step - loss: 1.4998 - acc: 0.3783 - val_loss: 1.5273 - val_acc: 0.3779\n"
     ]
    }
   ],
   "source": [
    "# ALL HYPERPARAMETERS NEED TUNING\n",
    "model = Sequential([\n",
    "    Dense(y_train.shape[1], input_shape=(x_train.shape[1],), activation=\"softmax\")\n",
    "])\n",
    "\n",
    "model.compile(\n",
    "    loss=keras.losses.categorical_crossentropy,\n",
    "    optimizer=SGD(lr=0.1), #find params\n",
    "    metrics=['accuracy']\n",
    ")\n",
    "\n",
    "history = model.fit(\n",
    "    x_train, y_train,\n",
    "    validation_data=(x_test, y_test),\n",
    "    epochs=9999999999, batch_size=128,\n",
    "    callbacks=[keras.callbacks.EarlyStopping('val_loss', patience=5, min_delta=0.001)]\n",
    ")"
   ]
  },
  {
   "cell_type": "code",
   "execution_count": 55,
   "metadata": {},
   "outputs": [
    {
     "name": "stdout",
     "output_type": "stream",
     "text": [
      "15767/15767 [==============================] - 0s 23us/step\n",
      "loss = 1.52727578739\n",
      "acc = 0.377941269729\n"
     ]
    }
   ],
   "source": [
    "for metric, value in zip(model.metrics_names, model.evaluate(x_test, y_test)):\n",
    "    print(metric, '=', value)"
   ]
  },
  {
   "cell_type": "code",
   "execution_count": 56,
   "metadata": {},
   "outputs": [
    {
     "data": {
      "image/png": "[encoded data removed]",
      "text/plain": [
       "<matplotlib.figure.Figure at 0x1837b7a828>"
      ]
     },
     "execution_count": 56,
     "metadata": {},
     "output_type": "execute_result"
    }
   ],
   "source": [
    "plot_history(history, \"No Hidden Layer\") # if do not store in var is displayed twice..."
   ]
  },
  {
   "cell_type": "markdown",
   "metadata": {},
   "source": [
    "## Exercise 2: One hidden layer, different optizimizers\n",
    "### Description\n",
    "\n",
    "Train a network with one hidden layer and compare different optimizers.\n",
    "\n",
    "1. Use one hidden layer with 64 units and the 'relu' activation. Use the [summary method](https://keras.io/models/about-keras-models/) to inspect your model.\n",
    "2. Fit the model for 50 epochs with different learning rates of stochastic gradient descent and answer the question below.\n",
    "3. Replace the stochastic gradient descent optimizer with the [Adam optimizer](https://keras.io/optimizers/#adam).\n",
    "4. Plot the learning curves of SGD with a reasonable learning rate together with the learning curves of Adam in the same figure. Take care of a reasonable labeling of the curves in the plot."
   ]
  },
  {
   "cell_type": "markdown",
   "metadata": {},
   "source": [
    "### Solution"
   ]
  },
  {
   "cell_type": "markdown",
   "metadata": {},
   "source": [
    "#### Question 1"
   ]
  },
  {
   "cell_type": "code",
   "execution_count": null,
   "metadata": {
    "collapsed": true,
    "scrolled": true
   },
   "outputs": [],
   "source": [
    "model = Sequential([\n",
    "    Dense(64, input_shape=(x_train.shape[1],), activation=\"relu\"),\n",
    "    Dense(y_train.shape[1], activation=\"softmax\")\n",
    "])\n",
    "\n",
    "model.compile(\n",
    "    loss=keras.losses.categorical_crossentropy,\n",
    "    optimizer=SGD(lr=0.01),\n",
    "    metrics=['accuracy']\n",
    ")\n",
    "\n",
    "historySGD = model.fit(\n",
    "    x_train, y_train,\n",
    "    validation_data=(x_test, y_test),\n",
    "    epochs=50,\n",
    "    verbose=0\n",
    ")"
   ]
  },
  {
   "cell_type": "code",
   "execution_count": null,
   "metadata": {
    "collapsed": true
   },
   "outputs": [],
   "source": [
    "model.summary()"
   ]
  },
  {
   "cell_type": "code",
   "execution_count": null,
   "metadata": {
    "collapsed": true
   },
   "outputs": [],
   "source": [
    "plot_history(historySGD, \"SGD\") # if do not store in var is displayed twice..."
   ]
  },
  {
   "cell_type": "markdown",
   "metadata": {},
   "source": [
    "#### Question 2"
   ]
  },
  {
   "cell_type": "code",
   "execution_count": null,
   "metadata": {
    "collapsed": true
   },
   "outputs": [],
   "source": [
    "LARGE_RATE = 0.9\n",
    "SMALL_RATE = 10**(-6)"
   ]
  },
  {
   "cell_type": "code",
   "execution_count": null,
   "metadata": {
    "collapsed": true
   },
   "outputs": [],
   "source": [
    "sgd_test_rate = Sequential([\n",
    "    Dense(64, input_shape=(x_train.shape[1],), activation=\"relu\"),\n",
    "    Dense(y_train.shape[1], activation=\"softmax\")\n",
    "])"
   ]
  },
  {
   "cell_type": "code",
   "execution_count": null,
   "metadata": {
    "collapsed": true
   },
   "outputs": [],
   "source": [
    "sgd_test_rate.compile(\n",
    "    loss=keras.losses.categorical_crossentropy,\n",
    "    optimizer=SGD(lr=LARGE_RATE),\n",
    "    metrics=['accuracy']\n",
    ")\n",
    "\n",
    "_ = plot_history(sgd_test_rate.fit(\n",
    "    x_train, y_train,\n",
    "    validation_data=(x_test, y_test),\n",
    "    epochs=50,\n",
    "    verbose=0\n",
    "), \"SGD with very large learning rate\")"
   ]
  },
  {
   "cell_type": "code",
   "execution_count": null,
   "metadata": {
    "collapsed": true
   },
   "outputs": [],
   "source": [
    "sgd_test_rate.compile(\n",
    "    loss=keras.losses.categorical_crossentropy,\n",
    "    optimizer=SGD(lr=SMALL_RATE),\n",
    "    metrics=['accuracy']\n",
    ")\n",
    "\n",
    "_ = plot_history(sgd_test_rate.fit(\n",
    "    x_train, y_train,\n",
    "    validation_data=(x_test, y_test),\n",
    "    epochs=50,\n",
    "    verbose=0\n",
    "), \"SGD with very small learning rate\")"
   ]
  },
  {
   "cell_type": "markdown",
   "metadata": {},
   "source": [
    "**Question**: What happens if the learning rate of SGD is A) very large B) very small? Please answer A) and B) with one full sentence (double click this markdown cell to edit).\n",
    "\n",
    "**Answer**:\n",
    "\n",
    "A) The validation error and accuracy are very \"unstable\", the search for the optimal value goes in the wrong direction many times\n",
    "\n",
    "B) The improvement is very slow but constant: we would need three times the number of epochs to reach the best result obtained with the larger learning rate"
   ]
  },
  {
   "cell_type": "markdown",
   "metadata": {},
   "source": [
    "#### Question 3"
   ]
  },
  {
   "cell_type": "code",
   "execution_count": null,
   "metadata": {
    "collapsed": true,
    "scrolled": true
   },
   "outputs": [],
   "source": [
    "model.compile(\n",
    "    loss=keras.losses.categorical_crossentropy,\n",
    "    optimizer=Adam(lr=0.001),\n",
    "    metrics=['accuracy']\n",
    ")\n",
    "\n",
    "historyAdam = model.fit(\n",
    "    x_train, y_train,\n",
    "    validation_data=(x_test, y_test),\n",
    "    epochs=50,\n",
    "    verbose=0\n",
    ")"
   ]
  },
  {
   "cell_type": "code",
   "execution_count": null,
   "metadata": {
    "collapsed": true
   },
   "outputs": [],
   "source": [
    "_ = plot_history(historyAdam, \"Adam\") # if do not store in var is displayed twice..."
   ]
  },
  {
   "cell_type": "markdown",
   "metadata": {},
   "source": [
    "Using the same learning rate with Adam and SGD does not allow Adam to improve its accuracy, therefore we changed it here"
   ]
  },
  {
   "cell_type": "markdown",
   "metadata": {},
   "source": [
    "#### Question 4"
   ]
  },
  {
   "cell_type": "code",
   "execution_count": null,
   "metadata": {
    "collapsed": true
   },
   "outputs": [],
   "source": [
    "fig, ax1, ax2 = prepare_standardplot(\"Comparing SGD and ADAM\", 'epoch')\n",
    "ax1.plot(historySGD.history['loss'], label = \"training with SGD\", linestyle='--', c='b')\n",
    "ax1.plot(historySGD.history['val_loss'], label = \"validation with SGD\", linestyle='-', c='b')\n",
    "ax2.plot(historySGD.history['acc'], label = \"training with SGD\", linestyle='--', c='b')\n",
    "ax2.plot(historySGD.history['val_acc'], label = \"validation with SGD\", linestyle='-', c='b')\n",
    "\n",
    "ax1.plot(historyAdam.history['loss'], label = \"training with Adam\", linestyle='--', c='orange')\n",
    "ax1.plot(historyAdam.history['val_loss'], label = \"validation with Adam\", linestyle='-', c='orange')\n",
    "ax2.plot(historyAdam.history['acc'], label = \"training with Adam\", linestyle='--', c='orange')\n",
    "ax2.plot(historyAdam.history['val_acc'], label = \"validation with Adam\", linestyle='-', c='orange')\n",
    "finalize_standardplot(fig, ax1, ax2)"
   ]
  },
  {
   "cell_type": "markdown",
   "metadata": {},
   "source": [
    "## Exercise 3: Overfitting and early stopping with Adam\n",
    "\n",
    "### Description\n",
    "\n",
    "Run the above simulation with Adam for sufficiently many epochs (be patient!) until you see clear overfitting.\n",
    "\n",
    "1. Plot the learning curves of a fit with Adam and sufficiently many epochs and answer the questions below.\n",
    "\n",
    "A simple, but effective mean to avoid overfitting is early stopping, i.e. a fit is not run until convergence but stopped as soon as the validation error starts to increase. We will use early stopping in all subsequent exercises.\n",
    "\n",
    "### Solution"
   ]
  },
  {
   "cell_type": "code",
   "execution_count": null,
   "metadata": {
    "collapsed": true
   },
   "outputs": [],
   "source": [
    "_ = plot_history(historyAdam, \"Adam\") # if do not store in var is displayed twice..."
   ]
  },
  {
   "cell_type": "markdown",
   "metadata": {},
   "source": [
    "The training we ran before was already overfitting: we can clearly see that the training error keeps decreasing while the validation error stays stable. We can see the same pattern observing the accuracy: the training accuracy keeps increasing while the validation accuracy is mostly stable"
   ]
  },
  {
   "cell_type": "markdown",
   "metadata": {},
   "source": [
    "**Question 1**: At which epoch (approximately) does the model start to overfit? Please answer with one full sentence.\n",
    "\n",
    "**Answer**: The model start to overfit right away but after epoch 15 we clearly see that the validation error stays stable or increases while the training error keeps decreasing\n",
    "\n",
    "**Question 2**: Explain the qualitative difference between the loss curves and the accuracy curves with respect to signs of overfitting. Please answer with at most 3 full sentences.\n",
    "\n",
    "**Answer**: # TODO"
   ]
  },
  {
   "cell_type": "markdown",
   "metadata": {},
   "source": [
    "## Exercise 4: Model performance as a function of number of hidden neurons\n",
    "\n",
    "### Description\n",
    "\n",
    "Investigate how the best validation loss and accuracy depends on the number of hidden neurons in a single layer.\n",
    "\n",
    "1. Fit a reasonable number of models with different hidden layer size (between 10 and 1000 hidden neurons) for a fixed number of epochs well beyond the point of overfitting.\n",
    "2. Collect some statistics by fitting the same models as in 1. for multiple initial conditions. Hints: 1. If you don't reset the random seed, you get different initial conditions each time you create a new model. 2. Let your computer work while you are asleep.\n",
    "3. Plot summary statistics of the final validation loss and accuracy versus the number of hidden neurons. Hint: [boxplots](https://matplotlib.org/examples/pylab_examples/boxplot_demo.html) (also [here](https://matplotlib.org/api/_as_gen/matplotlib.axes.Axes.boxplot.html?highlight=boxplot#matplotlib.axes.Axes.boxplot)) are useful. You may also want to use the matplotlib method set_xticklabels.\n",
    "4. Plot summary statistics of the loss and accuracy for early stopping versus the number of hidden neurons.\n",
    "\n",
    "### Solution"
   ]
  },
  {
   "cell_type": "markdown",
   "metadata": {},
   "source": [
    "As we observed from our previous plots, the Adam optimizer converges much quicker than the SGD one. Therefore we will use it here. We saw that the model start to overfit at around 15 so we will train it for 30 epochs"
   ]
  },
  {
   "cell_type": "code",
   "execution_count": null,
   "metadata": {
    "collapsed": true
   },
   "outputs": [],
   "source": [
    "def get_model_result(hidden_neurons):\n",
    "    m = Sequential([\n",
    "        Dense(hidden_neurons, input_shape=(x_train.shape[1],), activation=\"relu\"),\n",
    "        Dense(y_train.shape[1], activation=\"softmax\")\n",
    "    ])\n",
    "    \n",
    "    m.compile(\n",
    "        loss=keras.losses.categorical_crossentropy,\n",
    "        optimizer=Adam(lr=0.001),\n",
    "        metrics=['accuracy']\n",
    "    )\n",
    "\n",
    "    h = model.fit(\n",
    "        x_train, y_train,\n",
    "        validation_data=(x_test, y_test),\n",
    "        epochs=30,\n",
    "        verbose=0,\n",
    "        callbacks=[keras.callbacks.EarlyStopping('val_loss', patience=3, min_delta=0.001)]\n",
    "    )\n",
    "    \n",
    "    return h.history['val_loss'][-1], h.history['val_acc'][-1]"
   ]
  },
  {
   "cell_type": "markdown",
   "metadata": {},
   "source": [
    "#### Questions 1 and 2"
   ]
  },
  {
   "cell_type": "code",
   "execution_count": null,
   "metadata": {
    "collapsed": true
   },
   "outputs": [],
   "source": [
    "N = 20\n",
    "hidden_neurons = list(map(int, np.logspace(1, 3, N)))\n",
    "stats = []\n",
    "for idx, hid in enumerate(hidden_neurons):\n",
    "    # This seed or the seed parameter of initializer?\n",
    "    # https://keras.io/initializers/\n",
    "    np.random.seed(hash(student1 + student2) % 2**32)\n",
    "    stats.append(get_model_result(hid))\n",
    "    print(\"Completed train {}/{}\".format(idx+1, N))"
   ]
  },
  {
   "cell_type": "markdown",
   "metadata": {},
   "source": [
    "#### Question 3"
   ]
  },
  {
   "cell_type": "code",
   "execution_count": null,
   "metadata": {
    "collapsed": true
   },
   "outputs": [],
   "source": [
    "fig, (ax_loss, ax_acc) = plt.subplots(nrows=1, ncols=2)#, sharey=True)\n",
    "\n",
    "losses, accuracies = zip(*stats)\n",
    "\n",
    "ax_loss.boxplot(losses)\n",
    "ax_loss.set_title(\"Validation loss\")\n",
    "#ax_loss.set_yticklabels(hidden_neurons) # I am not sure it makes any sense: to build boxplot points are not kept in the same order\n",
    "\n",
    "\n",
    "ax_acc.boxplot(accuracies)\n",
    "ax_acc.set_title(\"Validation accuracy\")\n",
    "#ax_acc.set_yticklabels(hidden_neurons)"
   ]
  },
  {
   "cell_type": "code",
   "execution_count": null,
   "metadata": {
    "collapsed": true
   },
   "outputs": [],
   "source": [
    "fig, (ax_loss, ax_acc) = plt.subplots(nrows=1, ncols=2, sharey=True)\n",
    "\n",
    "ax_loss.plot(hidden_neurons, losses)\n",
    "ax_loss.set_title(\"Validation loss\")\n",
    "ax_acc.plot(hidden_neurons, accuracies)\n",
    "ax_acc.set_title(\"Validation accuracy\")"
   ]
  },
  {
   "cell_type": "markdown",
   "metadata": {},
   "source": [
    "## Exercise 5: Comparison to deep models\n",
    "\n",
    "### Description\n",
    "\n",
    "Instead of choosing one hidden layer (with many neurons) you experiment here with multiple hidden layers (each with not so many neurons).\n",
    "\n",
    "1. Fit models with 2, 3 and 4 hidden layers with approximately the same number of parameters as a network with one hidden layer of 100 neurons. Hint: Calculate the number of parameters in a network with input dimensionality N_in, K hidden layers with N_h units, one output layer with N_out dimensions and solve for N_h. Confirm you result with the keras method model.summary().\n",
    "2. Run each model multiple times with different initial conditions and plot summary statistics of the best validation loss and accuracy versus the number of hidden layers.\n",
    "\n",
    "### Solution"
   ]
  },
  {
   "cell_type": "code",
   "execution_count": 43,
   "metadata": {
    "collapsed": true
   },
   "outputs": [],
   "source": [
    "def dense_factory(input_, output, weight_regularizer, bias_regularizer):\n",
    "    return Dense(output, input_shape=(input_,), activation=\"softmax\", kernel_initializer='random_uniform', kernel_regularizer=weight_regularizer, bias_regularizer=bias_regularizer)\n",
    "\n",
    "def model_factory(units, layers, weight_regularizer, bias_regularizer, dropout=None):\n",
    "    # Check input validity for dropout\n",
    "    if dropout is not None and len(dropout) < 2:\n",
    "        dropout.append(0)\n",
    "        \n",
    "    model_builder = Sequential()\n",
    "    \n",
    "    # Input layer\n",
    "    model_builder.add(dense_factory(x_train.shape[1], units, weight_regularizer, bias_regularizer)) \n",
    "    if dropout is not None:\n",
    "        model_builder.add(Dropout(dropout[0]))\n",
    "        \n",
    "    # Hidden layers\n",
    "    for i in range(layers):\n",
    "        model_builder.add(dense_factory((units,), units, weight_regularizer, bias_regularizer))\n",
    "        if dropout is not None:\n",
    "            model_builder.add(Dropout(dropout[1]))\n",
    "        \n",
    "    # Output layer\n",
    "    model_builder.add(dense_factory((units,), y_train.shape[1], weight_regularizer, bias_regularizer))\n",
    "    if dropout is not None:\n",
    "        model_builder.add(Dropout(dropout[1]))\n",
    "    \n",
    "    return model_builder\n",
    "\n",
    "# Dummy regularizer, used as non existing regularizer\n",
    "null_reg = keras.regularizers.l1(0)\n",
    "\n",
    "# Factories for required models\n",
    "size_per_layer_1_hidden = 100\n",
    "size_per_layer_2_hidden = 77\n",
    "size_per_layer_3_hidden = 66\n",
    "size_per_layer_4_hidden = 59\n",
    "\n",
    "def model_1_hidden_factory(weight_regularizer=null_reg, bias_regularizer=null_reg, dropout=None):\n",
    "    return model_factory(size_per_layer_1_hidden, 1, weight_regularizer, bias_regularizer, dropout)\n",
    "\n",
    "def model_2_hidden_factory(weight_regularizer=null_reg, bias_regularizer=null_reg, dropout=None):\n",
    "    return model_factory(size_per_layer_2_hidden, 2, weight_regularizer, bias_regularizer, dropout)\n",
    "\n",
    "def model_3_hidden_factory(weight_regularizer=null_reg, bias_regularizer=null_reg, dropout=None):\n",
    "    return model_factory(size_per_layer_3_hidden, 3, weight_regularizer, bias_regularizer, dropout)\n",
    "\n",
    "def model_4_hidden_factory(weight_regularizer=null_reg, bias_regularizer=null_reg, dropout=None):\n",
    "    return model_factory(size_per_layer_4_hidden, 4, weight_regularizer, bias_regularizer, dropout)\n",
    "\n",
    "def compile_model(model):\n",
    "    model.compile(\n",
    "        loss=keras.losses.categorical_crossentropy,\n",
    "        optimizer=Adam(lr=0.001),\n",
    "        metrics=['accuracy']\n",
    "    )\n",
    "    \n",
    "def fit_model(model, x_train=x_train, y_train=y_train, x_test=x_test, y_test=y_test):\n",
    "    h = model.fit(\n",
    "        x_train, y_train,\n",
    "        validation_data=(x_test, y_test),\n",
    "        epochs=50,\n",
    "        verbose=1,\n",
    "        callbacks=[keras.callbacks.EarlyStopping('val_loss', patience=5, min_delta=0.001)]\n",
    "    )   \n",
    "    return h"
   ]
  },
  {
   "cell_type": "code",
   "execution_count": 44,
   "metadata": {
    "scrolled": true
   },
   "outputs": [
    {
     "name": "stdout",
     "output_type": "stream",
     "text": [
      "Training model 1 / 3\n",
      "Inner step: 1 / 3\n",
      "Train on 36794 samples, validate on 13168 samples\n",
      "Epoch 1/50\n",
      "36794/36794 [==============================] - 5s 139us/step - loss: 1.5730 - acc: 0.2876 - val_loss: 1.5584 - val_acc: 0.3151\n",
      "Epoch 2/50\n",
      "36794/36794 [==============================] - 3s 89us/step - loss: 1.5688 - acc: 0.2877 - val_loss: 1.5580 - val_acc: 0.3151\n",
      "Epoch 3/50\n",
      "36794/36794 [==============================] - 3s 86us/step - loss: 1.5641 - acc: 0.2877 - val_loss: 1.5139 - val_acc: 0.3433\n",
      "Epoch 4/50\n",
      "36794/36794 [==============================] - 3s 85us/step - loss: 1.3904 - acc: 0.4140 - val_loss: 1.3494 - val_acc: 0.4321\n",
      "Epoch 5/50\n",
      "36794/36794 [==============================] - 3s 86us/step - loss: 1.2979 - acc: 0.4417 - val_loss: 1.3267 - val_acc: 0.4369\n",
      "Epoch 6/50\n",
      "36794/36794 [==============================] - 3s 86us/step - loss: 1.2688 - acc: 0.4497 - val_loss: 1.3102 - val_acc: 0.4446\n",
      "Epoch 7/50\n",
      "36794/36794 [==============================] - 3s 88us/step - loss: 1.2536 - acc: 0.4575 - val_loss: 1.2916 - val_acc: 0.4509\n",
      "Epoch 8/50\n",
      "36794/36794 [==============================] - 3s 86us/step - loss: 1.2404 - acc: 0.4633 - val_loss: 1.2729 - val_acc: 0.4547\n",
      "Epoch 9/50\n",
      "36794/36794 [==============================] - 3s 87us/step - loss: 1.2274 - acc: 0.4696 - val_loss: 1.2705 - val_acc: 0.4547\n",
      "Epoch 10/50\n",
      "36794/36794 [==============================] - 3s 88us/step - loss: 1.2139 - acc: 0.4773 - val_loss: 1.2502 - val_acc: 0.4635\n",
      "Epoch 11/50\n",
      "36794/36794 [==============================] - 3s 87us/step - loss: 1.2021 - acc: 0.4842 - val_loss: 1.2468 - val_acc: 0.4686\n",
      "Epoch 12/50\n",
      "36794/36794 [==============================] - 3s 90us/step - loss: 1.1891 - acc: 0.4907 - val_loss: 1.2335 - val_acc: 0.4755\n",
      "Epoch 13/50\n",
      "36794/36794 [==============================] - 3s 90us/step - loss: 1.1728 - acc: 0.5066 - val_loss: 1.2213 - val_acc: 0.4858\n",
      "Epoch 14/50\n",
      "36794/36794 [==============================] - 3s 87us/step - loss: 1.1566 - acc: 0.5187 - val_loss: 1.1993 - val_acc: 0.4964\n",
      "Epoch 15/50\n",
      "36794/36794 [==============================] - 3s 89us/step - loss: 1.1410 - acc: 0.5285 - val_loss: 1.1848 - val_acc: 0.5087\n",
      "Epoch 16/50\n",
      "36794/36794 [==============================] - 3s 85us/step - loss: 1.1256 - acc: 0.5371 - val_loss: 1.1949 - val_acc: 0.5085\n",
      "Epoch 17/50\n",
      "36794/36794 [==============================] - 3s 88us/step - loss: 1.1129 - acc: 0.5430 - val_loss: 1.1764 - val_acc: 0.5210\n",
      "Epoch 18/50\n",
      "36794/36794 [==============================] - 3s 87us/step - loss: 1.1035 - acc: 0.5474 - val_loss: 1.1628 - val_acc: 0.5287\n",
      "Epoch 19/50\n",
      "36794/36794 [==============================] - 3s 86us/step - loss: 1.0929 - acc: 0.5519 - val_loss: 1.1672 - val_acc: 0.5299\n",
      "Epoch 20/50\n",
      "36794/36794 [==============================] - 3s 87us/step - loss: 1.0847 - acc: 0.5550 - val_loss: 1.1495 - val_acc: 0.5361\n",
      "Epoch 21/50\n",
      "36794/36794 [==============================] - 3s 87us/step - loss: 1.0751 - acc: 0.5609 - val_loss: 1.1621 - val_acc: 0.5298\n",
      "Epoch 22/50\n",
      "36794/36794 [==============================] - 3s 88us/step - loss: 1.0678 - acc: 0.5625 - val_loss: 1.1309 - val_acc: 0.5439\n",
      "Epoch 23/50\n",
      "36794/36794 [==============================] - 3s 87us/step - loss: 1.0594 - acc: 0.5682 - val_loss: 1.1216 - val_acc: 0.5496\n",
      "Epoch 24/50\n",
      "36794/36794 [==============================] - 3s 89us/step - loss: 1.0521 - acc: 0.5684 - val_loss: 1.1174 - val_acc: 0.5532\n",
      "Epoch 25/50\n",
      "36794/36794 [==============================] - 4s 100us/step - loss: 1.0423 - acc: 0.5743 - val_loss: 1.1087 - val_acc: 0.5579\n",
      "Epoch 26/50\n",
      "36794/36794 [==============================] - 3s 90us/step - loss: 1.0354 - acc: 0.5774 - val_loss: 1.1102 - val_acc: 0.5586\n",
      "Epoch 27/50\n",
      "36794/36794 [==============================] - 3s 91us/step - loss: 1.0271 - acc: 0.5822 - val_loss: 1.0963 - val_acc: 0.5679\n",
      "Epoch 28/50\n",
      "36794/36794 [==============================] - 3s 87us/step - loss: 1.0202 - acc: 0.5852 - val_loss: 1.1132 - val_acc: 0.5617\n",
      "Epoch 29/50\n",
      "36794/36794 [==============================] - 3s 87us/step - loss: 1.0138 - acc: 0.5890 - val_loss: 1.0839 - val_acc: 0.5728\n",
      "Epoch 30/50\n",
      "36794/36794 [==============================] - 3s 89us/step - loss: 1.0069 - acc: 0.5942 - val_loss: 1.0892 - val_acc: 0.5715\n",
      "Epoch 31/50\n",
      "36794/36794 [==============================] - 3s 88us/step - loss: 1.0024 - acc: 0.5959 - val_loss: 1.0863 - val_acc: 0.5734\n",
      "Epoch 32/50\n",
      "36794/36794 [==============================] - 3s 90us/step - loss: 0.9956 - acc: 0.6006 - val_loss: 1.1069 - val_acc: 0.5690\n",
      "Epoch 33/50\n",
      "36794/36794 [==============================] - 4s 99us/step - loss: 0.9921 - acc: 0.6002 - val_loss: 1.0774 - val_acc: 0.5741\n",
      "Epoch 34/50\n",
      "36794/36794 [==============================] - 5s 124us/step - loss: 0.9878 - acc: 0.6026 - val_loss: 1.0749 - val_acc: 0.5753\n",
      "Epoch 35/50\n",
      "36794/36794 [==============================] - 4s 113us/step - loss: 0.9812 - acc: 0.6077 - val_loss: 1.0634 - val_acc: 0.5807\n",
      "Epoch 36/50\n",
      "36794/36794 [==============================] - 4s 115us/step - loss: 0.9776 - acc: 0.6108 - val_loss: 1.0645 - val_acc: 0.5857\n",
      "Epoch 37/50\n",
      "36794/36794 [==============================] - 4s 113us/step - loss: 0.9740 - acc: 0.6105 - val_loss: 1.0614 - val_acc: 0.5848\n",
      "Epoch 38/50\n",
      "36794/36794 [==============================] - 4s 99us/step - loss: 0.9714 - acc: 0.6133 - val_loss: 1.0590 - val_acc: 0.5875\n",
      "Epoch 39/50\n",
      "36794/36794 [==============================] - 4s 117us/step - loss: 0.9672 - acc: 0.6150 - val_loss: 1.0654 - val_acc: 0.5816\n",
      "Epoch 40/50\n",
      "36794/36794 [==============================] - 4s 98us/step - loss: 0.9631 - acc: 0.6200 - val_loss: 1.0564 - val_acc: 0.5888\n",
      "Epoch 41/50\n",
      "36794/36794 [==============================] - 4s 95us/step - loss: 0.9609 - acc: 0.6201 - val_loss: 1.0542 - val_acc: 0.5901\n",
      "Epoch 42/50\n",
      "36794/36794 [==============================] - 3s 90us/step - loss: 0.9582 - acc: 0.6219 - val_loss: 1.0483 - val_acc: 0.5946\n",
      "Epoch 43/50\n",
      "36794/36794 [==============================] - 3s 90us/step - loss: 0.9554 - acc: 0.6222 - val_loss: 1.0592 - val_acc: 0.5911\n",
      "Epoch 44/50\n",
      "36794/36794 [==============================] - 3s 95us/step - loss: 0.9522 - acc: 0.6244 - val_loss: 1.0530 - val_acc: 0.5933\n",
      "Epoch 45/50\n",
      "36794/36794 [==============================] - 4s 96us/step - loss: 0.9501 - acc: 0.6262 - val_loss: 1.0445 - val_acc: 0.5948\n",
      "Epoch 46/50\n",
      "36794/36794 [==============================] - 4s 97us/step - loss: 0.9496 - acc: 0.6258 - val_loss: 1.0451 - val_acc: 0.5969\n",
      "Epoch 47/50\n",
      "36794/36794 [==============================] - 3s 94us/step - loss: 0.9474 - acc: 0.6274 - val_loss: 1.0459 - val_acc: 0.5973\n",
      "Epoch 48/50\n",
      "36794/36794 [==============================] - 3s 94us/step - loss: 0.9457 - acc: 0.6294 - val_loss: 1.0501 - val_acc: 0.5983\n",
      "Epoch 49/50\n",
      "36794/36794 [==============================] - 3s 93us/step - loss: 0.9432 - acc: 0.6292 - val_loss: 1.0546 - val_acc: 0.5951\n",
      "Epoch 50/50\n",
      "36794/36794 [==============================] - 4s 102us/step - loss: 0.9417 - acc: 0.6302 - val_loss: 1.0401 - val_acc: 0.6009\n",
      "Inner step: 2 / 3\n",
      "Train on 36794 samples, validate on 13168 samples\n",
      "Epoch 1/50\n",
      "36794/36794 [==============================] - 5s 144us/step - loss: 1.5729 - acc: 0.2874 - val_loss: 1.5578 - val_acc: 0.3151\n",
      "Epoch 2/50\n",
      "36794/36794 [==============================] - 3s 94us/step - loss: 1.5687 - acc: 0.2877 - val_loss: 1.5587 - val_acc: 0.3151\n",
      "Epoch 3/50\n",
      "36794/36794 [==============================] - 4s 97us/step - loss: 1.5687 - acc: 0.2877 - val_loss: 1.5583 - val_acc: 0.3151\n",
      "Epoch 4/50\n",
      "36794/36794 [==============================] - 3s 91us/step - loss: 1.4733 - acc: 0.3585 - val_loss: 1.3512 - val_acc: 0.4301\n",
      "Epoch 5/50\n",
      "36794/36794 [==============================] - 3s 91us/step - loss: 1.2941 - acc: 0.4535 - val_loss: 1.3080 - val_acc: 0.4468\n",
      "Epoch 6/50\n",
      "36794/36794 [==============================] - 3s 91us/step - loss: 1.2667 - acc: 0.4650 - val_loss: 1.2834 - val_acc: 0.4579\n",
      "Epoch 7/50\n",
      "36794/36794 [==============================] - 3s 93us/step - loss: 1.2520 - acc: 0.4699 - val_loss: 1.2815 - val_acc: 0.4583\n",
      "Epoch 8/50\n",
      "36794/36794 [==============================] - 3s 93us/step - loss: 1.2388 - acc: 0.4767 - val_loss: 1.2593 - val_acc: 0.4636\n",
      "Epoch 9/50\n"
     ]
    },
    {
     "name": "stdout",
     "output_type": "stream",
     "text": [
      "36794/36794 [==============================] - 3s 92us/step - loss: 1.2265 - acc: 0.4817 - val_loss: 1.2561 - val_acc: 0.4683\n",
      "Epoch 10/50\n",
      "36794/36794 [==============================] - 3s 92us/step - loss: 1.2141 - acc: 0.4865 - val_loss: 1.2605 - val_acc: 0.4654\n",
      "Epoch 11/50\n",
      "36794/36794 [==============================] - 3s 89us/step - loss: 1.2045 - acc: 0.4925 - val_loss: 1.2431 - val_acc: 0.4730\n",
      "Epoch 12/50\n",
      "36794/36794 [==============================] - 3s 94us/step - loss: 1.1993 - acc: 0.4954 - val_loss: 1.2310 - val_acc: 0.4768\n",
      "Epoch 13/50\n",
      "36794/36794 [==============================] - 3s 89us/step - loss: 1.1944 - acc: 0.4971 - val_loss: 1.2298 - val_acc: 0.4787\n",
      "Epoch 14/50\n",
      "36794/36794 [==============================] - 3s 89us/step - loss: 1.1889 - acc: 0.5012 - val_loss: 1.2407 - val_acc: 0.4787\n",
      "Epoch 15/50\n",
      "36794/36794 [==============================] - 3s 92us/step - loss: 1.1816 - acc: 0.5064 - val_loss: 1.2157 - val_acc: 0.4859\n",
      "Epoch 16/50\n",
      "36794/36794 [==============================] - 3s 91us/step - loss: 1.1739 - acc: 0.5102 - val_loss: 1.2317 - val_acc: 0.4848\n",
      "Epoch 17/50\n",
      "36794/36794 [==============================] - 3s 94us/step - loss: 1.1657 - acc: 0.5138 - val_loss: 1.2145 - val_acc: 0.4903\n",
      "Epoch 18/50\n",
      "36794/36794 [==============================] - 3s 93us/step - loss: 1.1553 - acc: 0.5176 - val_loss: 1.2035 - val_acc: 0.4954\n",
      "Epoch 19/50\n",
      "36794/36794 [==============================] - 3s 94us/step - loss: 1.1398 - acc: 0.5253 - val_loss: 1.1759 - val_acc: 0.5091\n",
      "Epoch 20/50\n",
      "36794/36794 [==============================] - 3s 89us/step - loss: 1.1244 - acc: 0.5342 - val_loss: 1.1659 - val_acc: 0.5182\n",
      "Epoch 21/50\n",
      "36794/36794 [==============================] - 3s 88us/step - loss: 1.1106 - acc: 0.5395 - val_loss: 1.1601 - val_acc: 0.5216\n",
      "Epoch 22/50\n",
      "36794/36794 [==============================] - 3s 91us/step - loss: 1.1017 - acc: 0.5428 - val_loss: 1.1525 - val_acc: 0.5273\n",
      "Epoch 23/50\n",
      "36794/36794 [==============================] - 4s 96us/step - loss: 1.0945 - acc: 0.5465 - val_loss: 1.1524 - val_acc: 0.5278\n",
      "Epoch 24/50\n",
      "36794/36794 [==============================] - 3s 94us/step - loss: 1.0878 - acc: 0.5497 - val_loss: 1.1472 - val_acc: 0.5315\n",
      "Epoch 25/50\n",
      "36794/36794 [==============================] - 3s 92us/step - loss: 1.0825 - acc: 0.5521 - val_loss: 1.1454 - val_acc: 0.5319\n",
      "Epoch 26/50\n",
      "36794/36794 [==============================] - 3s 94us/step - loss: 1.0773 - acc: 0.5533 - val_loss: 1.1568 - val_acc: 0.5312\n",
      "Epoch 27/50\n",
      "36794/36794 [==============================] - 3s 89us/step - loss: 1.0730 - acc: 0.5554 - val_loss: 1.1418 - val_acc: 0.5388\n",
      "Epoch 28/50\n",
      "36794/36794 [==============================] - 3s 93us/step - loss: 1.0673 - acc: 0.5582 - val_loss: 1.1358 - val_acc: 0.5402\n",
      "Epoch 29/50\n",
      "36794/36794 [==============================] - 3s 92us/step - loss: 1.0628 - acc: 0.5613 - val_loss: 1.1421 - val_acc: 0.5397\n",
      "Epoch 30/50\n",
      "36794/36794 [==============================] - 4s 104us/step - loss: 1.0586 - acc: 0.5627 - val_loss: 1.1292 - val_acc: 0.5444\n",
      "Epoch 31/50\n",
      "36794/36794 [==============================] - 4s 99us/step - loss: 1.0512 - acc: 0.5665 - val_loss: 1.1241 - val_acc: 0.5475\n",
      "Epoch 32/50\n",
      "36794/36794 [==============================] - 3s 95us/step - loss: 1.0457 - acc: 0.5700 - val_loss: 1.1267 - val_acc: 0.5481\n",
      "Epoch 33/50\n",
      "36794/36794 [==============================] - 3s 90us/step - loss: 1.0400 - acc: 0.5727 - val_loss: 1.1184 - val_acc: 0.5518\n",
      "Epoch 34/50\n",
      "36794/36794 [==============================] - 3s 92us/step - loss: 1.0325 - acc: 0.5759 - val_loss: 1.1138 - val_acc: 0.5548\n",
      "Epoch 35/50\n",
      "36794/36794 [==============================] - 3s 94us/step - loss: 1.0263 - acc: 0.5782 - val_loss: 1.1173 - val_acc: 0.5573\n",
      "Epoch 36/50\n",
      "36794/36794 [==============================] - 3s 92us/step - loss: 1.0193 - acc: 0.5817 - val_loss: 1.1014 - val_acc: 0.5620\n",
      "Epoch 37/50\n",
      "36794/36794 [==============================] - 4s 96us/step - loss: 1.0145 - acc: 0.5845 - val_loss: 1.0991 - val_acc: 0.5629\n",
      "Epoch 38/50\n",
      "36794/36794 [==============================] - 3s 93us/step - loss: 1.0095 - acc: 0.5862 - val_loss: 1.1317 - val_acc: 0.5557\n",
      "Epoch 39/50\n",
      "36794/36794 [==============================] - 3s 91us/step - loss: 1.0045 - acc: 0.5879 - val_loss: 1.0921 - val_acc: 0.5667\n",
      "Epoch 40/50\n",
      "36794/36794 [==============================] - 3s 92us/step - loss: 1.0005 - acc: 0.5899 - val_loss: 1.0920 - val_acc: 0.5693\n",
      "Epoch 41/50\n",
      "36794/36794 [==============================] - 4s 97us/step - loss: 0.9978 - acc: 0.5897 - val_loss: 1.1017 - val_acc: 0.5664\n",
      "Epoch 42/50\n",
      "36794/36794 [==============================] - 4s 97us/step - loss: 0.9932 - acc: 0.5925 - val_loss: 1.0945 - val_acc: 0.5672\n",
      "Epoch 43/50\n",
      "36794/36794 [==============================] - 3s 93us/step - loss: 0.9931 - acc: 0.5919 - val_loss: 1.0866 - val_acc: 0.5713\n",
      "Epoch 44/50\n",
      "36794/36794 [==============================] - 3s 89us/step - loss: 0.9886 - acc: 0.5939 - val_loss: 1.1066 - val_acc: 0.5660\n",
      "Epoch 45/50\n",
      "36794/36794 [==============================] - 3s 91us/step - loss: 0.9852 - acc: 0.5954 - val_loss: 1.0765 - val_acc: 0.5746\n",
      "Epoch 46/50\n",
      "36794/36794 [==============================] - 3s 90us/step - loss: 0.9843 - acc: 0.5962 - val_loss: 1.0802 - val_acc: 0.5742\n",
      "Epoch 47/50\n",
      "36794/36794 [==============================] - 3s 95us/step - loss: 0.9824 - acc: 0.5944 - val_loss: 1.1134 - val_acc: 0.5655\n",
      "Epoch 48/50\n",
      "36794/36794 [==============================] - 4s 96us/step - loss: 0.9783 - acc: 0.5966 - val_loss: 1.0910 - val_acc: 0.5710\n",
      "Epoch 49/50\n",
      "36794/36794 [==============================] - 3s 93us/step - loss: 0.9767 - acc: 0.5974 - val_loss: 1.0730 - val_acc: 0.5764\n",
      "Epoch 50/50\n",
      "36794/36794 [==============================] - 3s 89us/step - loss: 0.9759 - acc: 0.5974 - val_loss: 1.0756 - val_acc: 0.5759\n",
      "Inner step: 3 / 3\n",
      "Train on 36794 samples, validate on 13168 samples\n",
      "Epoch 1/50\n",
      "36794/36794 [==============================] - 5s 143us/step - loss: 1.5729 - acc: 0.2871 - val_loss: 1.5584 - val_acc: 0.3151\n",
      "Epoch 2/50\n",
      "36794/36794 [==============================] - 3s 95us/step - loss: 1.5687 - acc: 0.2877 - val_loss: 1.5597 - val_acc: 0.3151\n",
      "Epoch 3/50\n",
      "36794/36794 [==============================] - 5s 145us/step - loss: 1.5679 - acc: 0.2877 - val_loss: 1.5483 - val_acc: 0.3151\n",
      "Epoch 4/50\n",
      "36794/36794 [==============================] - 4s 96us/step - loss: 1.4333 - acc: 0.3901 - val_loss: 1.3969 - val_acc: 0.4133\n",
      "Epoch 5/50\n",
      "36794/36794 [==============================] - 3s 92us/step - loss: 1.3290 - acc: 0.4388 - val_loss: 1.3419 - val_acc: 0.4367\n",
      "Epoch 6/50\n",
      "36794/36794 [==============================] - 3s 82us/step - loss: 1.2922 - acc: 0.4508 - val_loss: 1.3132 - val_acc: 0.4471\n",
      "Epoch 7/50\n",
      "36794/36794 [==============================] - 3s 83us/step - loss: 1.2698 - acc: 0.4582 - val_loss: 1.3068 - val_acc: 0.4493\n",
      "Epoch 8/50\n",
      "36794/36794 [==============================] - 3s 88us/step - loss: 1.2545 - acc: 0.4646 - val_loss: 1.2742 - val_acc: 0.4565\n",
      "Epoch 9/50\n",
      "36794/36794 [==============================] - 3s 86us/step - loss: 1.2409 - acc: 0.4707 - val_loss: 1.2858 - val_acc: 0.4533\n",
      "Epoch 10/50\n",
      "36794/36794 [==============================] - 3s 82us/step - loss: 1.2290 - acc: 0.4773 - val_loss: 1.2574 - val_acc: 0.4632\n",
      "Epoch 11/50\n",
      "36794/36794 [==============================] - 3s 82us/step - loss: 1.2182 - acc: 0.4823 - val_loss: 1.2602 - val_acc: 0.4635\n",
      "Epoch 12/50\n",
      "36794/36794 [==============================] - 3s 81us/step - loss: 1.2096 - acc: 0.4881 - val_loss: 1.2412 - val_acc: 0.4701\n",
      "Epoch 13/50\n",
      "36794/36794 [==============================] - 3s 85us/step - loss: 1.2029 - acc: 0.4911 - val_loss: 1.2424 - val_acc: 0.4745\n",
      "Epoch 14/50\n",
      "36794/36794 [==============================] - 4s 103us/step - loss: 1.1973 - acc: 0.4980 - val_loss: 1.2337 - val_acc: 0.4775\n",
      "Epoch 15/50\n",
      "36794/36794 [==============================] - 3s 94us/step - loss: 1.1910 - acc: 0.5013 - val_loss: 1.2510 - val_acc: 0.4731\n",
      "Epoch 16/50\n",
      "36794/36794 [==============================] - 3s 93us/step - loss: 1.1853 - acc: 0.5043 - val_loss: 1.2208 - val_acc: 0.4851\n",
      "Epoch 17/50\n",
      "36794/36794 [==============================] - 4s 122us/step - loss: 1.1768 - acc: 0.5080 - val_loss: 1.2189 - val_acc: 0.4882\n"
     ]
    },
    {
     "name": "stdout",
     "output_type": "stream",
     "text": [
      "Epoch 18/50\n",
      "36794/36794 [==============================] - 3s 93us/step - loss: 1.1662 - acc: 0.5135 - val_loss: 1.2182 - val_acc: 0.4900\n",
      "Epoch 19/50\n",
      "36794/36794 [==============================] - 3s 93us/step - loss: 1.1511 - acc: 0.5186 - val_loss: 1.1911 - val_acc: 0.5020\n",
      "Epoch 20/50\n",
      "36794/36794 [==============================] - 4s 98us/step - loss: 1.1345 - acc: 0.5300 - val_loss: 1.1796 - val_acc: 0.5118\n",
      "Epoch 21/50\n",
      "36794/36794 [==============================] - 4s 97us/step - loss: 1.1182 - acc: 0.5366 - val_loss: 1.1985 - val_acc: 0.5062\n",
      "Epoch 22/50\n",
      "36794/36794 [==============================] - 4s 103us/step - loss: 1.1072 - acc: 0.5407 - val_loss: 1.1554 - val_acc: 0.5243\n",
      "Epoch 23/50\n",
      "36794/36794 [==============================] - 3s 92us/step - loss: 1.0983 - acc: 0.5447 - val_loss: 1.1566 - val_acc: 0.5251\n",
      "Epoch 24/50\n",
      "36794/36794 [==============================] - 3s 89us/step - loss: 1.0899 - acc: 0.5487 - val_loss: 1.1441 - val_acc: 0.5323\n",
      "Epoch 25/50\n",
      "36794/36794 [==============================] - 3s 86us/step - loss: 1.0840 - acc: 0.5508 - val_loss: 1.1455 - val_acc: 0.5339\n",
      "Epoch 26/50\n",
      "36794/36794 [==============================] - 4s 96us/step - loss: 1.0781 - acc: 0.5524 - val_loss: 1.1397 - val_acc: 0.5365\n",
      "Epoch 27/50\n",
      "36794/36794 [==============================] - 4s 96us/step - loss: 1.0721 - acc: 0.5561 - val_loss: 1.1359 - val_acc: 0.5387\n",
      "Epoch 28/50\n",
      "36794/36794 [==============================] - 4s 95us/step - loss: 1.0667 - acc: 0.5596 - val_loss: 1.1369 - val_acc: 0.5410\n",
      "Epoch 29/50\n",
      "36794/36794 [==============================] - 4s 97us/step - loss: 1.0609 - acc: 0.5611 - val_loss: 1.1306 - val_acc: 0.5437\n",
      "Epoch 30/50\n",
      "36794/36794 [==============================] - 3s 91us/step - loss: 1.0552 - acc: 0.5653 - val_loss: 1.1295 - val_acc: 0.5433\n",
      "Epoch 31/50\n",
      "36794/36794 [==============================] - 3s 87us/step - loss: 1.0486 - acc: 0.5659 - val_loss: 1.1199 - val_acc: 0.5493\n",
      "Epoch 32/50\n",
      "36794/36794 [==============================] - 3s 87us/step - loss: 1.0435 - acc: 0.5712 - val_loss: 1.1095 - val_acc: 0.5532\n",
      "Epoch 33/50\n",
      "36794/36794 [==============================] - 3s 86us/step - loss: 1.0366 - acc: 0.5735 - val_loss: 1.1066 - val_acc: 0.5567\n",
      "Epoch 34/50\n",
      "36794/36794 [==============================] - 3s 88us/step - loss: 1.0308 - acc: 0.5766 - val_loss: 1.1135 - val_acc: 0.5547\n",
      "Epoch 35/50\n",
      "36794/36794 [==============================] - 4s 96us/step - loss: 1.0240 - acc: 0.5804 - val_loss: 1.1041 - val_acc: 0.5579\n",
      "Epoch 36/50\n",
      "36794/36794 [==============================] - 3s 93us/step - loss: 1.0180 - acc: 0.5830 - val_loss: 1.1122 - val_acc: 0.5576\n",
      "Epoch 37/50\n",
      "36794/36794 [==============================] - 3s 84us/step - loss: 1.0119 - acc: 0.5846 - val_loss: 1.0961 - val_acc: 0.5646\n",
      "Epoch 38/50\n",
      "36794/36794 [==============================] - 3s 82us/step - loss: 1.0075 - acc: 0.5870 - val_loss: 1.0902 - val_acc: 0.5676\n",
      "Epoch 39/50\n",
      "36794/36794 [==============================] - 3s 92us/step - loss: 1.0029 - acc: 0.5896 - val_loss: 1.0843 - val_acc: 0.5699\n",
      "Epoch 40/50\n",
      "36794/36794 [==============================] - 4s 95us/step - loss: 0.9991 - acc: 0.5898 - val_loss: 1.0846 - val_acc: 0.5728\n",
      "Epoch 41/50\n",
      "36794/36794 [==============================] - 4s 100us/step - loss: 0.9948 - acc: 0.5909 - val_loss: 1.0868 - val_acc: 0.5710\n",
      "Epoch 42/50\n",
      "36794/36794 [==============================] - 3s 84us/step - loss: 0.9917 - acc: 0.5935 - val_loss: 1.0880 - val_acc: 0.5709\n",
      "Epoch 43/50\n",
      "36794/36794 [==============================] - 3s 80us/step - loss: 0.9901 - acc: 0.5922 - val_loss: 1.1027 - val_acc: 0.5677\n",
      "Epoch 44/50\n",
      "36794/36794 [==============================] - 3s 80us/step - loss: 0.9879 - acc: 0.5934 - val_loss: 1.0786 - val_acc: 0.5731\n",
      "Epoch 45/50\n",
      "36794/36794 [==============================] - 3s 80us/step - loss: 0.9850 - acc: 0.5947 - val_loss: 1.0738 - val_acc: 0.5769\n",
      "Epoch 46/50\n",
      "36794/36794 [==============================] - 3s 80us/step - loss: 0.9827 - acc: 0.5960 - val_loss: 1.0811 - val_acc: 0.5734\n",
      "Epoch 47/50\n",
      "36794/36794 [==============================] - 3s 80us/step - loss: 0.9826 - acc: 0.5953 - val_loss: 1.0681 - val_acc: 0.5776\n",
      "Epoch 48/50\n",
      "36794/36794 [==============================] - 3s 81us/step - loss: 0.9785 - acc: 0.5975 - val_loss: 1.0695 - val_acc: 0.5769\n",
      "Epoch 49/50\n",
      "36794/36794 [==============================] - 3s 80us/step - loss: 0.9754 - acc: 0.5970 - val_loss: 1.0714 - val_acc: 0.5763\n",
      "Epoch 50/50\n",
      "36794/36794 [==============================] - 3s 80us/step - loss: 0.9732 - acc: 0.5980 - val_loss: 1.0771 - val_acc: 0.5741\n",
      "Training model 2 / 3\n",
      "Inner step: 1 / 3\n",
      "Train on 36794 samples, validate on 13168 samples\n",
      "Epoch 1/50\n",
      "36794/36794 [==============================] - 5s 142us/step - loss: 1.5724 - acc: 0.2869 - val_loss: 1.5582 - val_acc: 0.3151\n",
      "Epoch 2/50\n",
      "36794/36794 [==============================] - 3s 87us/step - loss: 1.5687 - acc: 0.2877 - val_loss: 1.5585 - val_acc: 0.3151\n",
      "Epoch 3/50\n",
      "36794/36794 [==============================] - 3s 85us/step - loss: 1.5687 - acc: 0.2877 - val_loss: 1.5591 - val_acc: 0.3151\n",
      "Epoch 4/50\n",
      "36794/36794 [==============================] - 3s 85us/step - loss: 1.5687 - acc: 0.2877 - val_loss: 1.5584 - val_acc: 0.3151\n",
      "Epoch 5/50\n",
      "36794/36794 [==============================] - 3s 88us/step - loss: 1.5687 - acc: 0.2877 - val_loss: 1.5583 - val_acc: 0.3151\n",
      "Epoch 6/50\n",
      "36794/36794 [==============================] - 3s 85us/step - loss: 1.5687 - acc: 0.2877 - val_loss: 1.5584 - val_acc: 0.3151\n",
      "Inner step: 2 / 3\n",
      "Train on 36794 samples, validate on 13168 samples\n",
      "Epoch 1/50\n",
      "36794/36794 [==============================] - 5s 137us/step - loss: 1.5729 - acc: 0.2874 - val_loss: 1.5584 - val_acc: 0.3151\n",
      "Epoch 2/50\n",
      "36794/36794 [==============================] - 3s 82us/step - loss: 1.5687 - acc: 0.2877 - val_loss: 1.5582 - val_acc: 0.3151\n",
      "Epoch 3/50\n",
      "36794/36794 [==============================] - 3s 82us/step - loss: 1.5687 - acc: 0.2877 - val_loss: 1.5584 - val_acc: 0.3151\n",
      "Epoch 4/50\n",
      "36794/36794 [==============================] - 3s 83us/step - loss: 1.5686 - acc: 0.2877 - val_loss: 1.5596 - val_acc: 0.3151\n",
      "Epoch 5/50\n",
      "36794/36794 [==============================] - 3s 82us/step - loss: 1.5687 - acc: 0.2877 - val_loss: 1.5589 - val_acc: 0.3151\n",
      "Epoch 6/50\n",
      "36794/36794 [==============================] - 3s 83us/step - loss: 1.5687 - acc: 0.2877 - val_loss: 1.5584 - val_acc: 0.3151\n",
      "Inner step: 3 / 3\n",
      "Train on 36794 samples, validate on 13168 samples\n",
      "Epoch 1/50\n",
      "36794/36794 [==============================] - 5s 137us/step - loss: 1.5730 - acc: 0.2876 - val_loss: 1.5581 - val_acc: 0.3151\n",
      "Epoch 2/50\n",
      "36794/36794 [==============================] - 3s 87us/step - loss: 1.5686 - acc: 0.2877 - val_loss: 1.5575 - val_acc: 0.3151\n",
      "Epoch 3/50\n",
      "36794/36794 [==============================] - 3s 83us/step - loss: 1.5688 - acc: 0.2877 - val_loss: 1.5581 - val_acc: 0.3151\n",
      "Epoch 4/50\n",
      "36794/36794 [==============================] - 4s 99us/step - loss: 1.5687 - acc: 0.2877 - val_loss: 1.5591 - val_acc: 0.3151\n",
      "Epoch 5/50\n",
      "36794/36794 [==============================] - 4s 102us/step - loss: 1.5687 - acc: 0.2877 - val_loss: 1.5574 - val_acc: 0.3151\n",
      "Epoch 6/50\n",
      "36794/36794 [==============================] - 4s 108us/step - loss: 1.5687 - acc: 0.2877 - val_loss: 1.5586 - val_acc: 0.3151\n",
      "Training model 3 / 3\n",
      "Inner step: 1 / 3\n",
      "Train on 36794 samples, validate on 13168 samples\n",
      "Epoch 1/50\n",
      "36794/36794 [==============================] - 8s 212us/step - loss: 1.5727 - acc: 0.2873 - val_loss: 1.5582 - val_acc: 0.3151\n",
      "Epoch 2/50\n",
      "36794/36794 [==============================] - 4s 103us/step - loss: 1.5687 - acc: 0.2877 - val_loss: 1.5582 - val_acc: 0.3151\n",
      "Epoch 3/50\n",
      "36794/36794 [==============================] - 4s 107us/step - loss: 1.5688 - acc: 0.2877 - val_loss: 1.5583 - val_acc: 0.3151\n",
      "Epoch 4/50\n",
      "36794/36794 [==============================] - 4s 112us/step - loss: 1.5687 - acc: 0.2877 - val_loss: 1.5583 - val_acc: 0.3151\n",
      "Epoch 5/50\n",
      "36794/36794 [==============================] - 4s 104us/step - loss: 1.5688 - acc: 0.2877 - val_loss: 1.5588 - val_acc: 0.3151\n",
      "Epoch 6/50\n",
      "36794/36794 [==============================] - 4s 117us/step - loss: 1.5687 - acc: 0.2877 - val_loss: 1.5581 - val_acc: 0.3151\n",
      "Inner step: 2 / 3\n",
      "Train on 36794 samples, validate on 13168 samples\n",
      "Epoch 1/50\n"
     ]
    },
    {
     "name": "stdout",
     "output_type": "stream",
     "text": [
      "36794/36794 [==============================] - 7s 177us/step - loss: 1.5726 - acc: 0.2874 - val_loss: 1.5580 - val_acc: 0.3151\n",
      "Epoch 2/50\n",
      "36794/36794 [==============================] - 4s 107us/step - loss: 1.5687 - acc: 0.2877 - val_loss: 1.5589 - val_acc: 0.3151\n",
      "Epoch 3/50\n",
      "36794/36794 [==============================] - 4s 102us/step - loss: 1.5687 - acc: 0.2877 - val_loss: 1.5586 - val_acc: 0.3151\n",
      "Epoch 4/50\n",
      "36794/36794 [==============================] - 3s 94us/step - loss: 1.5688 - acc: 0.2877 - val_loss: 1.5580 - val_acc: 0.3151\n",
      "Epoch 5/50\n",
      "36794/36794 [==============================] - 4s 99us/step - loss: 1.5687 - acc: 0.2877 - val_loss: 1.5580 - val_acc: 0.3151\n",
      "Epoch 6/50\n",
      "36794/36794 [==============================] - 3s 94us/step - loss: 1.5687 - acc: 0.2877 - val_loss: 1.5591 - val_acc: 0.3151\n",
      "Inner step: 3 / 3\n",
      "Train on 36794 samples, validate on 13168 samples\n",
      "Epoch 1/50\n",
      "36794/36794 [==============================] - 6s 161us/step - loss: 1.5726 - acc: 0.2865 - val_loss: 1.5580 - val_acc: 0.3151\n",
      "Epoch 2/50\n",
      "36794/36794 [==============================] - 4s 100us/step - loss: 1.5686 - acc: 0.2877 - val_loss: 1.5582 - val_acc: 0.3151\n",
      "Epoch 3/50\n",
      "36794/36794 [==============================] - 4s 101us/step - loss: 1.5687 - acc: 0.2877 - val_loss: 1.5582 - val_acc: 0.3151\n",
      "Epoch 4/50\n",
      "36794/36794 [==============================] - 4s 98us/step - loss: 1.5687 - acc: 0.2877 - val_loss: 1.5580 - val_acc: 0.3151\n",
      "Epoch 5/50\n",
      "36794/36794 [==============================] - 3s 95us/step - loss: 1.5688 - acc: 0.2877 - val_loss: 1.5578 - val_acc: 0.3151\n",
      "Epoch 6/50\n",
      "36794/36794 [==============================] - 4s 96us/step - loss: 1.5687 - acc: 0.2877 - val_loss: 1.5584 - val_acc: 0.3151\n"
     ]
    }
   ],
   "source": [
    "model_factories = [model_2_hidden_factory, model_3_hidden_factory, model_4_hidden_factory]\n",
    "\n",
    "try_per_model = 3\n",
    "\n",
    "results = []\n",
    "\n",
    "for i, factory in enumerate(model_factories):\n",
    "    print('Training model', i + 1, '/', len(model_factories))\n",
    "    \n",
    "    curr_model_res = []\n",
    "    \n",
    "    for i in range(try_per_model):\n",
    "        print('Inner step:', i+1, '/', try_per_model)\n",
    "        \n",
    "        model = factory()\n",
    "        \n",
    "        compile_model(model)\n",
    "        \n",
    "        h = fit_model(model, x_train, y_train, x_test, y_test)\n",
    "        \n",
    "        curr_model_res.append(h)\n",
    "        \n",
    "    results.append(curr_model_res)"
   ]
  },
  {
   "cell_type": "markdown",
   "metadata": {},
   "source": [
    "## Exercise 6: Tricks (regularization, batch normalization, dropout)\n",
    "\n",
    "### Description\n",
    "\n",
    "Overfitting can also be counteracted with regularization and dropout. Batch normalization is supposed to mainly decrease convergence time.\n",
    "\n",
    "1. Try to improve the best validation scores of the model with 1 layer and 100 hidden neurons and the model with 4 hidden layers. Experiment with batch_normalization layers, dropout layers and l1- and l2-regularization on weights (kernels) and biases.\n",
    "2. After you have found good settings, plot for both models the learning curves of the naive model you fitted in the previous exercises together with the learning curves of the current version.\n",
    "3. For proper comparison, plot also the learning curves of the two current models in a third figure.\n",
    "\n",
    "### Solution"
   ]
  },
  {
   "cell_type": "code",
   "execution_count": null,
   "metadata": {
    "collapsed": true
   },
   "outputs": [],
   "source": [
    "weight_l1_regularizations = [10, 1.0, 0.1, 0.01, 0.001]\n",
    "weight_l2_regularizations = [10, 1.0, 0.1, 0.01, 0.001]\n",
    "\n",
    "bias_l1_regularizations = [10, 1.0, 0.1, 0.01, 0.001]\n",
    "bias_l2_regularizations = [10, 1.0, 0.1, 0.01, 0.001]\n",
    "\n",
    "dropouts = [[0.2, 0.5], [0.2, 0.9]]\n",
    "\n",
    "def grid_search(model_factory, compiler, model_fiter):\n",
    "    \n",
    "    for w_reg, b_reg, dropout in itertools.product(weight_l1_regularizations, bias_l1_regularizations, dropouts):\n",
    "        model = model_factory(w_reg, b_reg, dropout)\n",
    "        compiler(model)\n",
    "        h = model_fiter(model)"
   ]
  },
  {
   "cell_type": "code",
   "execution_count": null,
   "metadata": {
    "collapsed": true
   },
   "outputs": [],
   "source": [
    "model_family = [model_1_hidden_factory(), model_4_hidden_factory()]"
   ]
  },
  {
   "cell_type": "markdown",
   "metadata": {},
   "source": [
    "## Exercise 7: Convolutional networks\n",
    "\n",
    "### Description\n",
    "\n",
    "Convolutional neural networks have an inductive bias that is well adapted to image classification.\n",
    "\n",
    "1. Design a convolutional neural network, play with the parameters and fit it. Hint: You may get valuable inspiration from the keras [examples](https://github.com/keras-team/keras/tree/master/examples), e.g. [mnist_cnn](https://github.com/keras-team/keras/blob/master/examples/mnist_cnn.py).\n",
    "2. Plot the learning curves of the convolutional neural network together with the so far best performing model.\n",
    "\n",
    "## Solution"
   ]
  },
  {
   "cell_type": "code",
   "execution_count": null,
   "metadata": {
    "collapsed": true
   },
   "outputs": [],
   "source": []
  }
 ],
 "metadata": {
  "kernelspec": {
   "display_name": "Python 3",
   "language": "python",
   "name": "python3"
  },
  "language_info": {
   "codemirror_mode": {
    "name": "ipython",
    "version": 3
   },
   "file_extension": ".py",
   "mimetype": "text/x-python",
   "name": "python",
   "nbconvert_exporter": "python",
   "pygments_lexer": "ipython3",
   "version": "3.6.3"
  }
 },
 "nbformat": 4,
 "nbformat_minor": 2
}

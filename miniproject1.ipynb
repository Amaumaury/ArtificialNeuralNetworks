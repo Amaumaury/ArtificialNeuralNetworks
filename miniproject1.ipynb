{
 "cells": [
  {
   "cell_type": "markdown",
   "metadata": {},
   "source": [
    "# Miniproject 1: Image Classification\n",
    "\n",
    "## Introduction\n",
    "\n",
    "### Description\n",
    "\n",
    "One of the deepest traditions in learning about deep learning is to first [tackle the exciting problem of MNIST classification](http://deeplearning.net/tutorial/logreg.html). [The MNIST database](https://en.wikipedia.org/wiki/MNIST_database) (Modified National Institute of Standards and Technology database) is a large database of handwritten digits that was [recently extended](https://arxiv.org/abs/1702.05373). We break with this tradition (just a little bit) and tackle first the related problem of classifying cropped, downsampled and grayscaled images of house numbers in the [The Street View House Numbers (SVHN) Dataset](http://ufldl.stanford.edu/housenumbers/).\n",
    "\n",
    "\n",
    "### Prerequisites\n",
    "\n",
    "- You should have a running installation of [tensorflow](https://www.tensorflow.org/install/) and [keras](https://keras.io/).\n",
    "- You should know the concepts \"multilayer perceptron\", \"stochastic gradient descent with minibatches\", \"training and validation data\", \"overfitting\" and \"early stopping\".\n",
    "\n",
    "### What you will learn\n",
    "\n",
    "- You will learn how to define feedforward neural networks in keras and fit them to data.\n",
    "- You will be guided through a prototyping procedure for the application of deep learning to a specific domain.\n",
    "- You will get in contact with concepts discussed later in the lecture, like \"regularization\", \"batch normalization\" and \"convolutional networks\".\n",
    "- You will gain some experience on the influence of network architecture, optimizer and regularization choices on the goodness of fit.\n",
    "- You will learn to be more patient :) Some fits may take your computer quite a bit of time; run them over night.\n",
    "\n",
    "### Evaluation criteria\n",
    "\n",
    "The evaluation is (mostly) based on the figures you submit and your answer sentences. \n",
    "We will only do random tests of your code and not re-run the full notebook.\n",
    "\n",
    "### Your names\n",
    "\n",
    "Before you start, please enter your full name(s) in the field below; they are used to load the data. The variable student2 may remain empty, if you work alone."
   ]
  },
  {
   "cell_type": "code",
   "execution_count": 1,
   "metadata": {
    "ExecuteTime": {
     "end_time": "2018-03-09T09:08:24.514461Z",
     "start_time": "2018-03-09T09:08:24.506410Z"
    }
   },
   "outputs": [],
   "source": [
    "student1 = \"Amaury Combes\"\n",
    "student2 = \"Vincenzo Bazzucchi\""
   ]
  },
  {
   "cell_type": "markdown",
   "metadata": {},
   "source": [
    "## Some helper functions\n",
    "\n",
    "For your convenience we provide here some functions to preprocess the data and plot the results later. Simply run the following cells with `Shift-Enter`.\n",
    "\n",
    "### Dependencies and constants"
   ]
  },
  {
   "cell_type": "code",
   "execution_count": 2,
   "metadata": {
    "ExecuteTime": {
     "end_time": "2018-03-09T09:09:16.113721Z",
     "start_time": "2018-03-09T09:09:16.100520Z"
    }
   },
   "outputs": [
    {
     "name": "stderr",
     "output_type": "stream",
     "text": [
      "Using TensorFlow backend.\n"
     ]
    }
   ],
   "source": [
    "import numpy as np\n",
    "import time\n",
    "import matplotlib.pyplot as plt\n",
    "import scipy.io\n",
    "\n",
    "import keras\n",
    "from keras.models import Sequential\n",
    "from keras.layers import Dense, Conv2D, MaxPooling2D, Dropout, Flatten\n",
    "from keras.optimizers import SGD, Adam\n",
    "\n",
    "# you may experiment with different subsets, \n",
    "# but make sure in the submission \n",
    "# it is generated with the correct random seed for all exercises.\n",
    "np.random.seed(hash(student1 + student2) % 2**32)\n",
    "subset_of_classes = np.random.choice(range(10), 5, replace = False)"
   ]
  },
  {
   "cell_type": "markdown",
   "metadata": {},
   "source": [
    "### Plotting"
   ]
  },
  {
   "cell_type": "code",
   "execution_count": 3,
   "metadata": {},
   "outputs": [],
   "source": [
    "from pylab import rcParams\n",
    "rcParams['figure.figsize'] = 10, 6\n",
    "def plot_some_samples(x, y = [], yhat = [], select_from = [], \n",
    "                      ncols = 6, nrows = 4, xdim = 16, ydim = 16,\n",
    "                      label_mapping = range(10)):\n",
    "    \"\"\"plot some input vectors as grayscale images (optionally together with their assigned or predicted labels).\n",
    "    \n",
    "    x is an NxD - dimensional array, where D is the length of an input vector and N is the number of samples.\n",
    "    Out of the N samples, ncols x nrows indices are randomly selected from the list select_from (if it is empty, select_from becomes range(N)).\n",
    "    \n",
    "    Keyword arguments:\n",
    "    y             -- corresponding labels to plot in green below each image.\n",
    "    yhat          -- corresponding predicted labels to plot in red below each image.\n",
    "    select_from   -- list of indices from which to select the images.\n",
    "    ncols, nrows  -- number of columns and rows to plot.\n",
    "    xdim, ydim    -- number of pixels of the images in x- and y-direction.\n",
    "    label_mapping -- map labels to digits.\n",
    "    \n",
    "    \"\"\"\n",
    "    fig, ax = plt.subplots(nrows, ncols)\n",
    "    if len(select_from) == 0:\n",
    "        select_from = range(x.shape[0])\n",
    "    indices = np.random.choice(select_from, size = min(ncols * nrows, len(select_from)), replace = False)\n",
    "    for i, ind in enumerate(indices):\n",
    "        thisax = ax[i//ncols,i%ncols]\n",
    "        thisax.matshow(x[ind].reshape(xdim, ydim), cmap='gray')\n",
    "        thisax.set_axis_off()\n",
    "        if len(y) != 0:\n",
    "            j = y[ind] if type(y[ind]) != np.ndarray else y[ind].argmax()\n",
    "            thisax.text(0, 0, (label_mapping[j]+1)%10, color='green', \n",
    "                                                       verticalalignment='top',\n",
    "                                                       transform=thisax.transAxes)\n",
    "        if len(yhat) != 0:\n",
    "            k = yhat[ind] if type(yhat[ind]) != np.ndarray else yhat[ind].argmax()\n",
    "            thisax.text(1, 0, (label_mapping[k]+1)%10, color='red',\n",
    "                                             verticalalignment='top',\n",
    "                                             horizontalalignment='right',\n",
    "                                             transform=thisax.transAxes)\n",
    "    return fig\n",
    "\n",
    "def prepare_standardplot(title, xlabel):\n",
    "    fig, (ax1, ax2) = plt.subplots(1, 2)\n",
    "    fig.suptitle(title)\n",
    "    ax1.set_ylabel('categorical cross entropy')\n",
    "    ax1.set_xlabel(xlabel)\n",
    "    ax1.set_yscale('log')\n",
    "    ax2.set_ylabel('accuracy [% correct]')\n",
    "    ax2.set_xlabel(xlabel)\n",
    "    return fig, ax1, ax2\n",
    "\n",
    "def finalize_standardplot(fig, ax1, ax2):\n",
    "    ax1handles, ax1labels = ax1.get_legend_handles_labels()\n",
    "    if len(ax1labels) > 0:\n",
    "        ax1.legend(ax1handles, ax1labels)\n",
    "    ax2handles, ax2labels = ax2.get_legend_handles_labels()\n",
    "    if len(ax2labels) > 0:\n",
    "        ax2.legend(ax2handles, ax2labels)\n",
    "    fig.tight_layout()\n",
    "    plt.subplots_adjust(top=0.9)\n",
    "\n",
    "def plot_history(history, title):\n",
    "    fig, ax1, ax2 = prepare_standardplot(title, 'epoch')\n",
    "    ax1.plot(history.history['loss'], label = \"training\")\n",
    "    ax1.plot(history.history['val_loss'], label = \"validation\")\n",
    "    ax2.plot(history.history['acc'], label = \"training\")\n",
    "    ax2.plot(history.history['val_acc'], label = \"validation\")\n",
    "    finalize_standardplot(fig, ax1, ax2)\n",
    "    return fig\n"
   ]
  },
  {
   "cell_type": "markdown",
   "metadata": {},
   "source": [
    "### Loading and preprocessing the data\n",
    "\n",
    "The data consists of RGB color images with 32x32 pixels, loaded into an array of dimension 32x32x3x(number of images). We convert them to grayscale (using [this method](https://en.wikipedia.org/wiki/SRGB#The_reverse_transformation)) and we downsample them to images of 16x16 pixels by averaging over patches of 2x2 pixels.\n",
    "\n",
    "With these preprocessing steps we obviously remove some information that could be helpful in classifying the images. But, since the processed data is much lower dimensional, the fitting procedures converge faster. This is an advantage in situations like here (or generally when prototyping), were we want to try many different things without having to wait too long for computations to finish. After having gained some experience, one may want to go back to work on the 32x32 RGB images.\n"
   ]
  },
  {
   "cell_type": "code",
   "execution_count": 4,
   "metadata": {},
   "outputs": [],
   "source": [
    "# convert RGB images x to grayscale using the formula for Y_linear in https://en.wikipedia.org/wiki/Grayscale#Colorimetric_(perceptual_luminance-preserving)_conversion_to_grayscale\n",
    "def grayscale(x):\n",
    "    x = x.astype('float32')/255\n",
    "    x = np.piecewise(x, [x <= 0.04045, x > 0.04045], \n",
    "                        [lambda x: x/12.92, lambda x: ((x + .055)/1.055)**2.4])\n",
    "    return .2126 * x[:,:,0,:] + .7152 * x[:,:,1,:]  + .07152 * x[:,:,2,:]\n",
    "\n",
    "def downsample(x):\n",
    "    return sum([x[i::2,j::2,:] for i in range(2) for j in range(2)])/4\n",
    "\n",
    "def preprocess(data):\n",
    "    gray = grayscale(data['X'])\n",
    "    downsampled = downsample(gray)\n",
    "    return (downsampled.reshape(16*16, gray.shape[2]).transpose(),\n",
    "            data['y'].flatten() - 1)\n",
    "\n",
    "\n",
    "data_train = scipy.io.loadmat('housenumbers/train_32x32.mat')\n",
    "data_test = scipy.io.loadmat('housenumbers/test_32x32.mat')\n",
    "\n",
    "x_train_all, y_train_all = preprocess(data_train)\n",
    "x_test_all, y_test_all = preprocess(data_test)"
   ]
  },
  {
   "cell_type": "markdown",
   "metadata": {},
   "source": [
    "### Selecting a subset of classes\n",
    "\n",
    "We furter reduce the size of the dataset (and thus reduce computation time) by selecting only the 5 (out of 10 digits) in subset_of_classes."
   ]
  },
  {
   "cell_type": "code",
   "execution_count": 5,
   "metadata": {},
   "outputs": [],
   "source": [
    "def extract_classes(x, y, classes):\n",
    "    indices = []\n",
    "    labels = []\n",
    "    count = 0\n",
    "    for c in classes:\n",
    "        tmp = np.where(y == c)[0]\n",
    "        indices.extend(tmp)\n",
    "        labels.extend(np.ones(len(tmp), dtype='uint8') * count)\n",
    "        count += 1\n",
    "    return x[indices], labels\n",
    "\n",
    "x_train, y_train = extract_classes(x_train_all, y_train_all, subset_of_classes)\n",
    "x_test, y_test = extract_classes(x_test_all, y_test_all, subset_of_classes)"
   ]
  },
  {
   "cell_type": "markdown",
   "metadata": {},
   "source": [
    "Let us plot some examples now. The green digit at the bottom left of each image indicates the corresponding label in y_test.\n",
    "For further usage of the function plot_some_samples, please have a look at its definition in the plotting section."
   ]
  },
  {
   "cell_type": "code",
   "execution_count": 8,
   "metadata": {},
   "outputs": [
    {
     "data": {
      "text/plain": [
       "(13045, 256)"
      ]
     },
     "execution_count": 8,
     "metadata": {},
     "output_type": "execute_result"
    }
   ],
   "source": [
    "x_test.shape"
   ]
  },
  {
   "cell_type": "code",
   "execution_count": 6,
   "metadata": {
    "scrolled": false
   },
   "outputs": [
    {
     "data": {
      "image/png": "[encoded data removed]",
      "text/plain": [
       "<Figure size 720x432 with 24 Axes>"
      ]
     },
     "metadata": {},
     "output_type": "display_data"
    }
   ],
   "source": [
    "plot_some_samples(x_test, y_test, label_mapping = subset_of_classes);"
   ]
  },
  {
   "cell_type": "markdown",
   "metadata": {},
   "source": [
    "To prepare for fitting we transform the labels to one hot coding, i.e. for 5 classes, label 2 becomes the vector [0, 0, 1, 0, 0] (python uses 0-indexing)."
   ]
  },
  {
   "cell_type": "code",
   "execution_count": 7,
   "metadata": {},
   "outputs": [],
   "source": [
    "y_train = keras.utils.to_categorical(y_train)\n",
    "y_test = keras.utils.to_categorical(y_test)"
   ]
  },
  {
   "cell_type": "markdown",
   "metadata": {},
   "source": [
    "## Exercise 1: No hidden layer\n",
    "\n",
    "### Description\n",
    "\n",
    "Define and fit a model without a hidden layer. \n",
    "\n",
    "1. Use the softmax activation for the output layer.\n",
    "2. Use the categorical_crossentropy loss.\n",
    "3. Add the accuracy metric to the metrics.\n",
    "4. Choose stochastic gradient descent for the optimizer.\n",
    "5. Choose a minibatch size of 128.\n",
    "6. Fit for as many epochs as needed to see no further decrease in the validation loss.\n",
    "7. Plot the output of the fitting procedure (a history object) using the function plot_history defined above.\n",
    "8. Determine the indices of all test images that are misclassified by the fitted model and plot some of them using the function \n",
    "   `plot_some_samples(x_test, y_test, yhat_test, error_indices, label_mapping = subset_of_classes)`\n",
    "\n",
    "\n",
    "Hints:\n",
    "* Read the keras docs, in particular [Getting started with the Keras Sequential model](https://keras.io/getting-started/sequential-model-guide/).\n",
    "* Have a look at the keras [examples](https://github.com/keras-team/keras/tree/master/examples), e.g. [mnist_mlp](https://github.com/keras-team/keras/blob/master/examples/mnist_mlp.py)."
   ]
  },
  {
   "cell_type": "markdown",
   "metadata": {},
   "source": [
    "### Solution"
   ]
  },
  {
   "cell_type": "code",
   "execution_count": 79,
   "metadata": {},
   "outputs": [
    {
     "name": "stdout",
     "output_type": "stream",
     "text": [
      "Train on 36907 samples, validate on 13045 samples\n",
      "Epoch 1/9999999999\n",
      "36907/36907 [==============================] - 1s 21us/step - loss: 1.5270 - acc: 0.3737 - val_loss: 1.5009 - val_acc: 0.3919\n",
      "Epoch 2/9999999999\n",
      "36907/36907 [==============================] - 0s 13us/step - loss: 1.5034 - acc: 0.3813 - val_loss: 1.4916 - val_acc: 0.3966\n",
      "Epoch 3/9999999999\n",
      "36907/36907 [==============================] - 0s 13us/step - loss: 1.4939 - acc: 0.3868 - val_loss: 1.5014 - val_acc: 0.4106\n",
      "Epoch 4/9999999999\n",
      "36907/36907 [==============================] - 0s 13us/step - loss: 1.4876 - acc: 0.3925 - val_loss: 1.4836 - val_acc: 0.4162\n",
      "Epoch 5/9999999999\n",
      "36907/36907 [==============================] - 1s 15us/step - loss: 1.4828 - acc: 0.3963 - val_loss: 1.4854 - val_acc: 0.4201\n",
      "Epoch 6/9999999999\n",
      "36907/36907 [==============================] - 0s 13us/step - loss: 1.4798 - acc: 0.3999 - val_loss: 1.4951 - val_acc: 0.4410\n",
      "Epoch 7/9999999999\n",
      "36907/36907 [==============================] - 1s 15us/step - loss: 1.4767 - acc: 0.4044 - val_loss: 1.4896 - val_acc: 0.4106\n",
      "Epoch 8/9999999999\n",
      "36907/36907 [==============================] - 0s 13us/step - loss: 1.4743 - acc: 0.4055 - val_loss: 1.4897 - val_acc: 0.4099\n",
      "Epoch 9/9999999999\n",
      "36907/36907 [==============================] - 0s 13us/step - loss: 1.4726 - acc: 0.4069 - val_loss: 1.5021 - val_acc: 0.4330\n"
     ]
    }
   ],
   "source": [
    "# ALL HYPERPARAMETERS NEED TUNING\n",
    "model = Sequential([\n",
    "    Dense(y_train.shape[1], input_shape=(x_train.shape[1],), activation=\"softmax\")\n",
    "])\n",
    "\n",
    "model.compile(\n",
    "    loss=keras.losses.categorical_crossentropy,\n",
    "    optimizer=SGD(lr=0.1), #find params\n",
    "    metrics=['accuracy']\n",
    ")\n",
    "\n",
    "history = model.fit(\n",
    "    x_train, y_train,\n",
    "    validation_data=(x_test, y_test),\n",
    "    epochs=9999999999, batch_size=128,\n",
    "    callbacks=[keras.callbacks.EarlyStopping('val_loss', patience=5, min_delta=0.001)]\n",
    ")"
   ]
  },
  {
   "cell_type": "code",
   "execution_count": 80,
   "metadata": {},
   "outputs": [
    {
     "name": "stdout",
     "output_type": "stream",
     "text": [
      "13045/13045 [==============================] - 0s 21us/step\n",
      "loss = 1.50209777318\n",
      "acc = 0.432962821004\n"
     ]
    }
   ],
   "source": [
    "for metric, value in zip(model.metrics_names, model.evaluate(x_test, y_test)):\n",
    "    print(metric, '=', value)"
   ]
  },
  {
   "cell_type": "code",
   "execution_count": 81,
   "metadata": {},
   "outputs": [
    {
     "data": {
      "image/png": "[encoded data removed]",
      "text/plain": [
       "<Figure size 720x432 with 2 Axes>"
      ]
     },
     "execution_count": 81,
     "metadata": {},
     "output_type": "execute_result"
    },
    {
     "data": {
      "image/png": "[encoded data removed]",
      "text/plain": [
       "<Figure size 720x432 with 2 Axes>"
      ]
     },
     "metadata": {},
     "output_type": "display_data"
    }
   ],
   "source": [
    "plot_history(history, \"No Hidden Layer\")"
   ]
  },
  {
   "cell_type": "markdown",
   "metadata": {},
   "source": [
    "## Exercise 2: One hidden layer, different optizimizers\n",
    "### Description\n",
    "\n",
    "Train a network with one hidden layer and compare different optimizers.\n",
    "\n",
    "1. Use one hidden layer with 64 units and the 'relu' activation. Use the [summary method](https://keras.io/models/about-keras-models/) to inspect your model.\n",
    "2. Fit the model for 50 epochs with different learning rates of stochastic gradient descent and answer the question below.\n",
    "3. Replace the stochastic gradient descent optimizer with the [Adam optimizer](https://keras.io/optimizers/#adam).\n",
    "4. Plot the learning curves of SGD with a reasonable learning rate together with the learning curves of Adam in the same figure. Take care of a reasonable labeling of the curves in the plot."
   ]
  },
  {
   "cell_type": "markdown",
   "metadata": {},
   "source": [
    "### Solution"
   ]
  },
  {
   "cell_type": "code",
   "execution_count": 84,
   "metadata": {
    "scrolled": false
   },
   "outputs": [
    {
     "name": "stdout",
     "output_type": "stream",
     "text": [
      "Train on 36907 samples, validate on 13045 samples\n",
      "Epoch 1/50\n",
      "36907/36907 [==============================] - 1s 29us/step - loss: 1.4783 - acc: 0.3796 - val_loss: 1.3905 - val_acc: 0.4075\n",
      "Epoch 2/50\n",
      "36907/36907 [==============================] - 1s 18us/step - loss: 1.3138 - acc: 0.4525 - val_loss: 1.1705 - val_acc: 0.5557\n",
      "Epoch 3/50\n",
      "36907/36907 [==============================] - 1s 22us/step - loss: 1.1025 - acc: 0.5843 - val_loss: 0.9878 - val_acc: 0.6616\n",
      "Epoch 4/50\n",
      "36907/36907 [==============================] - 1s 17us/step - loss: 0.9425 - acc: 0.6798 - val_loss: 0.9456 - val_acc: 0.6851\n",
      "Epoch 5/50\n",
      "36907/36907 [==============================] - 1s 17us/step - loss: 0.8439 - acc: 0.7291 - val_loss: 0.8512 - val_acc: 0.7223\n",
      "Epoch 6/50\n",
      "36907/36907 [==============================] - 1s 17us/step - loss: 0.7796 - acc: 0.7548 - val_loss: 0.8042 - val_acc: 0.7415\n",
      "Epoch 7/50\n",
      "36907/36907 [==============================] - 1s 18us/step - loss: 0.7334 - acc: 0.7735 - val_loss: 0.7864 - val_acc: 0.7559\n",
      "Epoch 8/50\n",
      "36907/36907 [==============================] - 1s 20us/step - loss: 0.7005 - acc: 0.7848 - val_loss: 0.7766 - val_acc: 0.7621\n",
      "Epoch 9/50\n",
      "36907/36907 [==============================] - 1s 18us/step - loss: 0.6718 - acc: 0.7955 - val_loss: 0.7144 - val_acc: 0.7793\n",
      "Epoch 10/50\n",
      "36907/36907 [==============================] - 1s 19us/step - loss: 0.6491 - acc: 0.8027 - val_loss: 0.7665 - val_acc: 0.7552\n",
      "Epoch 11/50\n",
      "36907/36907 [==============================] - 1s 18us/step - loss: 0.6307 - acc: 0.8095 - val_loss: 0.7731 - val_acc: 0.7663\n",
      "Epoch 12/50\n",
      "36907/36907 [==============================] - 1s 17us/step - loss: 0.6168 - acc: 0.8127 - val_loss: 0.7029 - val_acc: 0.7834\n",
      "Epoch 13/50\n",
      "36907/36907 [==============================] - 1s 17us/step - loss: 0.6031 - acc: 0.8182 - val_loss: 0.7994 - val_acc: 0.7579\n",
      "Epoch 14/50\n",
      "36907/36907 [==============================] - 1s 18us/step - loss: 0.5932 - acc: 0.8187 - val_loss: 0.6975 - val_acc: 0.7879\n",
      "Epoch 15/50\n",
      "36907/36907 [==============================] - 1s 22us/step - loss: 0.5813 - acc: 0.8243 - val_loss: 0.6683 - val_acc: 0.7967\n",
      "Epoch 16/50\n",
      "36907/36907 [==============================] - 1s 20us/step - loss: 0.5742 - acc: 0.8273 - val_loss: 0.7518 - val_acc: 0.7657\n",
      "Epoch 17/50\n",
      "36907/36907 [==============================] - 1s 25us/step - loss: 0.5640 - acc: 0.8294 - val_loss: 0.8299 - val_acc: 0.7349\n",
      "Epoch 18/50\n",
      "36907/36907 [==============================] - 1s 20us/step - loss: 0.5564 - acc: 0.8318 - val_loss: 0.6822 - val_acc: 0.7914\n",
      "Epoch 19/50\n",
      "36907/36907 [==============================] - 1s 21us/step - loss: 0.5484 - acc: 0.8333 - val_loss: 0.6300 - val_acc: 0.8115\n",
      "Epoch 20/50\n",
      "36907/36907 [==============================] - 1s 18us/step - loss: 0.5410 - acc: 0.8363 - val_loss: 0.7377 - val_acc: 0.7716\n",
      "Epoch 21/50\n",
      "36907/36907 [==============================] - 1s 18us/step - loss: 0.5349 - acc: 0.8378 - val_loss: 0.6141 - val_acc: 0.8173\n",
      "Epoch 22/50\n",
      "36907/36907 [==============================] - 1s 18us/step - loss: 0.5275 - acc: 0.8391 - val_loss: 0.6351 - val_acc: 0.8095\n",
      "Epoch 23/50\n",
      "36907/36907 [==============================] - 1s 18us/step - loss: 0.5208 - acc: 0.8406 - val_loss: 0.6452 - val_acc: 0.8068\n",
      "Epoch 24/50\n",
      "36907/36907 [==============================] - 1s 18us/step - loss: 0.5143 - acc: 0.8428 - val_loss: 0.6583 - val_acc: 0.7988\n",
      "Epoch 25/50\n",
      "36907/36907 [==============================] - 1s 18us/step - loss: 0.5082 - acc: 0.8445 - val_loss: 0.6110 - val_acc: 0.8176\n",
      "Epoch 26/50\n",
      "36907/36907 [==============================] - 1s 18us/step - loss: 0.5027 - acc: 0.8471 - val_loss: 0.6103 - val_acc: 0.8193\n",
      "Epoch 27/50\n",
      "36907/36907 [==============================] - 1s 18us/step - loss: 0.4971 - acc: 0.8499 - val_loss: 0.5812 - val_acc: 0.8301\n",
      "Epoch 28/50\n",
      "36907/36907 [==============================] - 1s 18us/step - loss: 0.4924 - acc: 0.8498 - val_loss: 0.6021 - val_acc: 0.8236\n",
      "Epoch 29/50\n",
      "36907/36907 [==============================] - 1s 19us/step - loss: 0.4848 - acc: 0.8522 - val_loss: 0.6537 - val_acc: 0.8011\n",
      "Epoch 30/50\n",
      "36907/36907 [==============================] - 1s 18us/step - loss: 0.4821 - acc: 0.8525 - val_loss: 0.6291 - val_acc: 0.8165\n",
      "Epoch 31/50\n",
      "36907/36907 [==============================] - 1s 18us/step - loss: 0.4759 - acc: 0.8551 - val_loss: 0.6209 - val_acc: 0.8132\n",
      "Epoch 32/50\n",
      "36907/36907 [==============================] - 1s 19us/step - loss: 0.4714 - acc: 0.8554 - val_loss: 0.5827 - val_acc: 0.8287\n",
      "Epoch 33/50\n",
      "36907/36907 [==============================] - 1s 18us/step - loss: 0.4666 - acc: 0.8580 - val_loss: 0.6771 - val_acc: 0.7946\n",
      "Epoch 34/50\n",
      "36907/36907 [==============================] - 1s 19us/step - loss: 0.4633 - acc: 0.8596 - val_loss: 0.5593 - val_acc: 0.8362\n",
      "Epoch 35/50\n",
      "36907/36907 [==============================] - 1s 18us/step - loss: 0.4566 - acc: 0.8609 - val_loss: 0.5985 - val_acc: 0.8249\n",
      "Epoch 36/50\n",
      "36907/36907 [==============================] - 1s 20us/step - loss: 0.4549 - acc: 0.8614 - val_loss: 0.5611 - val_acc: 0.8315\n",
      "Epoch 37/50\n",
      "36907/36907 [==============================] - 1s 19us/step - loss: 0.4502 - acc: 0.8645 - val_loss: 0.5556 - val_acc: 0.8379\n",
      "Epoch 38/50\n",
      "36907/36907 [==============================] - 1s 17us/step - loss: 0.4447 - acc: 0.8654 - val_loss: 0.5843 - val_acc: 0.8268\n",
      "Epoch 39/50\n",
      "36907/36907 [==============================] - 1s 18us/step - loss: 0.4409 - acc: 0.8666 - val_loss: 0.6030 - val_acc: 0.8263\n",
      "Epoch 40/50\n",
      "36907/36907 [==============================] - 1s 20us/step - loss: 0.4366 - acc: 0.8679 - val_loss: 0.5370 - val_acc: 0.8446\n",
      "Epoch 41/50\n",
      "36907/36907 [==============================] - 1s 21us/step - loss: 0.4327 - acc: 0.8673 - val_loss: 0.5328 - val_acc: 0.8485\n",
      "Epoch 42/50\n",
      "36907/36907 [==============================] - 1s 23us/step - loss: 0.4279 - acc: 0.8700 - val_loss: 0.5319 - val_acc: 0.8515\n",
      "Epoch 43/50\n",
      "36907/36907 [==============================] - 1s 21us/step - loss: 0.4251 - acc: 0.8699 - val_loss: 0.5481 - val_acc: 0.8439\n",
      "Epoch 44/50\n",
      "36907/36907 [==============================] - 1s 20us/step - loss: 0.4216 - acc: 0.8714 - val_loss: 0.6272 - val_acc: 0.8170\n",
      "Epoch 45/50\n",
      "36907/36907 [==============================] - 1s 23us/step - loss: 0.4165 - acc: 0.8742 - val_loss: 0.5466 - val_acc: 0.8399\n",
      "Epoch 46/50\n",
      "36907/36907 [==============================] - 1s 25us/step - loss: 0.4135 - acc: 0.8747 - val_loss: 0.5607 - val_acc: 0.8359\n",
      "Epoch 47/50\n",
      "36907/36907 [==============================] - 1s 21us/step - loss: 0.4089 - acc: 0.8774 - val_loss: 0.5188 - val_acc: 0.8535\n",
      "Epoch 48/50\n",
      "36907/36907 [==============================] - 1s 20us/step - loss: 0.4041 - acc: 0.8777 - val_loss: 0.5654 - val_acc: 0.8300\n",
      "Epoch 49/50\n",
      "36907/36907 [==============================] - 1s 20us/step - loss: 0.4017 - acc: 0.8786 - val_loss: 0.5328 - val_acc: 0.8514\n",
      "Epoch 50/50\n",
      "36907/36907 [==============================] - 1s 20us/step - loss: 0.4014 - acc: 0.8795 - val_loss: 0.5084 - val_acc: 0.8575\n"
     ]
    }
   ],
   "source": [
    "# ALL HYPERPARAMETERS NEED TUNING\n",
    "\n",
    "# Question 1\n",
    "model = Sequential([\n",
    "    Dense(64, input_shape=(x_train.shape[1],), activation=\"relu\"),\n",
    "    Dense(y_train.shape[1], activation=\"softmax\")\n",
    "])\n",
    "\n",
    "model.compile(\n",
    "    loss=keras.losses.categorical_crossentropy,\n",
    "    optimizer=SGD(lr=0.1), #find params\n",
    "    metrics=['accuracy']\n",
    ")\n",
    "\n",
    "historySGD = model.fit(\n",
    "    x_train, y_train,\n",
    "    validation_data=(x_test, y_test),\n",
    "    epochs=50, batch_size=128\n",
    ")"
   ]
  },
  {
   "cell_type": "code",
   "execution_count": 85,
   "metadata": {
    "scrolled": false
   },
   "outputs": [
    {
     "name": "stdout",
     "output_type": "stream",
     "text": [
      "Train on 36907 samples, validate on 13045 samples\n",
      "Epoch 1/50\n",
      "36907/36907 [==============================] - 1s 33us/step - loss: 12.7951 - acc: 0.2050 - val_loss: 13.0007 - val_acc: 0.1934\n",
      "Epoch 2/50\n",
      "36907/36907 [==============================] - 1s 20us/step - loss: 12.8610 - acc: 0.2021 - val_loss: 13.0007 - val_acc: 0.1934\n",
      "Epoch 3/50\n",
      "36907/36907 [==============================] - 1s 20us/step - loss: 12.8610 - acc: 0.2021 - val_loss: 13.0007 - val_acc: 0.1934\n",
      "Epoch 4/50\n",
      "36907/36907 [==============================] - 1s 21us/step - loss: 12.8610 - acc: 0.2021 - val_loss: 13.0007 - val_acc: 0.1934\n",
      "Epoch 5/50\n",
      "36907/36907 [==============================] - 1s 22us/step - loss: 12.8610 - acc: 0.2021 - val_loss: 13.0007 - val_acc: 0.1934\n",
      "Epoch 6/50\n",
      "36907/36907 [==============================] - 1s 27us/step - loss: 12.8610 - acc: 0.2021 - val_loss: 13.0007 - val_acc: 0.1934\n",
      "Epoch 7/50\n",
      "36907/36907 [==============================] - 1s 22us/step - loss: 12.8610 - acc: 0.2021 - val_loss: 13.0007 - val_acc: 0.1934\n",
      "Epoch 8/50\n",
      "36907/36907 [==============================] - 1s 28us/step - loss: 12.8610 - acc: 0.2021 - val_loss: 13.0007 - val_acc: 0.1934\n",
      "Epoch 9/50\n",
      "36907/36907 [==============================] - 1s 29us/step - loss: 12.8610 - acc: 0.2021 - val_loss: 13.0007 - val_acc: 0.1934\n",
      "Epoch 10/50\n",
      "36907/36907 [==============================] - 1s 29us/step - loss: 12.8610 - acc: 0.2021 - val_loss: 13.0007 - val_acc: 0.1934\n",
      "Epoch 11/50\n",
      "36907/36907 [==============================] - 1s 20us/step - loss: 12.8610 - acc: 0.2021 - val_loss: 13.0007 - val_acc: 0.1934\n",
      "Epoch 12/50\n",
      "36907/36907 [==============================] - 1s 20us/step - loss: 12.8610 - acc: 0.2021 - val_loss: 13.0007 - val_acc: 0.1934\n",
      "Epoch 13/50\n",
      "36907/36907 [==============================] - 1s 21us/step - loss: 12.8610 - acc: 0.2021 - val_loss: 13.0007 - val_acc: 0.1934\n",
      "Epoch 14/50\n",
      "36907/36907 [==============================] - 1s 19us/step - loss: 12.8610 - acc: 0.2021 - val_loss: 13.0007 - val_acc: 0.1934\n",
      "Epoch 15/50\n",
      "36907/36907 [==============================] - 1s 18us/step - loss: 12.8610 - acc: 0.2021 - val_loss: 13.0007 - val_acc: 0.1934\n",
      "Epoch 16/50\n",
      "36907/36907 [==============================] - 1s 18us/step - loss: 12.8610 - acc: 0.2021 - val_loss: 13.0007 - val_acc: 0.1934\n",
      "Epoch 17/50\n",
      "36907/36907 [==============================] - 1s 19us/step - loss: 12.8610 - acc: 0.2021 - val_loss: 13.0007 - val_acc: 0.1934\n",
      "Epoch 18/50\n",
      "36907/36907 [==============================] - 1s 19us/step - loss: 12.8610 - acc: 0.2021 - val_loss: 13.0007 - val_acc: 0.1934\n",
      "Epoch 19/50\n",
      "36907/36907 [==============================] - 1s 19us/step - loss: 12.8610 - acc: 0.2021 - val_loss: 13.0007 - val_acc: 0.1934\n",
      "Epoch 20/50\n",
      "36907/36907 [==============================] - 1s 19us/step - loss: 12.8610 - acc: 0.2021 - val_loss: 13.0007 - val_acc: 0.1934\n",
      "Epoch 21/50\n",
      "36907/36907 [==============================] - 1s 18us/step - loss: 12.8610 - acc: 0.2021 - val_loss: 13.0007 - val_acc: 0.1934\n",
      "Epoch 22/50\n",
      "36907/36907 [==============================] - 1s 18us/step - loss: 12.8610 - acc: 0.2021 - val_loss: 13.0007 - val_acc: 0.1934\n",
      "Epoch 23/50\n",
      "36907/36907 [==============================] - 1s 20us/step - loss: 12.8610 - acc: 0.2021 - val_loss: 13.0007 - val_acc: 0.1934\n",
      "Epoch 24/50\n",
      "36907/36907 [==============================] - 1s 19us/step - loss: 12.8610 - acc: 0.2021 - val_loss: 13.0007 - val_acc: 0.1934\n",
      "Epoch 25/50\n",
      "36907/36907 [==============================] - 1s 18us/step - loss: 12.8610 - acc: 0.2021 - val_loss: 13.0007 - val_acc: 0.1934\n",
      "Epoch 26/50\n",
      "36907/36907 [==============================] - 1s 19us/step - loss: 12.8610 - acc: 0.2021 - val_loss: 13.0007 - val_acc: 0.1934\n",
      "Epoch 27/50\n",
      "36907/36907 [==============================] - 1s 18us/step - loss: 12.8610 - acc: 0.2021 - val_loss: 13.0007 - val_acc: 0.1934\n",
      "Epoch 28/50\n",
      "36907/36907 [==============================] - 1s 19us/step - loss: 12.8610 - acc: 0.2021 - val_loss: 13.0007 - val_acc: 0.1934\n",
      "Epoch 29/50\n",
      "36907/36907 [==============================] - 1s 18us/step - loss: 12.8610 - acc: 0.2021 - val_loss: 13.0007 - val_acc: 0.1934\n",
      "Epoch 30/50\n",
      "36907/36907 [==============================] - 1s 19us/step - loss: 12.8610 - acc: 0.2021 - val_loss: 13.0007 - val_acc: 0.1934\n",
      "Epoch 31/50\n",
      "36907/36907 [==============================] - 1s 19us/step - loss: 12.8610 - acc: 0.2021 - val_loss: 13.0007 - val_acc: 0.1934\n",
      "Epoch 32/50\n",
      "36907/36907 [==============================] - 1s 19us/step - loss: 12.8610 - acc: 0.2021 - val_loss: 13.0007 - val_acc: 0.1934\n",
      "Epoch 33/50\n",
      "36907/36907 [==============================] - 1s 19us/step - loss: 12.8610 - acc: 0.2021 - val_loss: 13.0007 - val_acc: 0.1934\n",
      "Epoch 34/50\n",
      "36907/36907 [==============================] - 1s 19us/step - loss: 12.8610 - acc: 0.2021 - val_loss: 13.0007 - val_acc: 0.1934\n",
      "Epoch 35/50\n",
      "36907/36907 [==============================] - 1s 19us/step - loss: 12.8610 - acc: 0.2021 - val_loss: 13.0007 - val_acc: 0.1934\n",
      "Epoch 36/50\n",
      "36907/36907 [==============================] - 1s 19us/step - loss: 12.8610 - acc: 0.2021 - val_loss: 13.0007 - val_acc: 0.1934\n",
      "Epoch 37/50\n",
      "36907/36907 [==============================] - 1s 18us/step - loss: 12.8610 - acc: 0.2021 - val_loss: 13.0007 - val_acc: 0.1934\n",
      "Epoch 38/50\n",
      "36907/36907 [==============================] - 1s 18us/step - loss: 12.8610 - acc: 0.2021 - val_loss: 13.0007 - val_acc: 0.1934\n",
      "Epoch 39/50\n",
      "36907/36907 [==============================] - 1s 18us/step - loss: 12.8610 - acc: 0.2021 - val_loss: 13.0007 - val_acc: 0.1934\n",
      "Epoch 40/50\n",
      "36907/36907 [==============================] - 1s 18us/step - loss: 12.8610 - acc: 0.2021 - val_loss: 13.0007 - val_acc: 0.1934\n",
      "Epoch 41/50\n",
      "36907/36907 [==============================] - 1s 19us/step - loss: 12.8610 - acc: 0.2021 - val_loss: 13.0007 - val_acc: 0.1934\n",
      "Epoch 42/50\n",
      "36907/36907 [==============================] - 1s 18us/step - loss: 12.8610 - acc: 0.2021 - val_loss: 13.0007 - val_acc: 0.1934\n",
      "Epoch 43/50\n",
      "36907/36907 [==============================] - 1s 19us/step - loss: 12.8610 - acc: 0.2021 - val_loss: 13.0007 - val_acc: 0.1934\n",
      "Epoch 44/50\n",
      "36907/36907 [==============================] - 1s 19us/step - loss: 12.8610 - acc: 0.2021 - val_loss: 13.0007 - val_acc: 0.1934\n",
      "Epoch 45/50\n",
      "36907/36907 [==============================] - 1s 19us/step - loss: 12.8610 - acc: 0.2021 - val_loss: 13.0007 - val_acc: 0.1934\n",
      "Epoch 46/50\n",
      "36907/36907 [==============================] - 1s 19us/step - loss: 12.8610 - acc: 0.2021 - val_loss: 13.0007 - val_acc: 0.1934\n",
      "Epoch 47/50\n",
      "36907/36907 [==============================] - 1s 21us/step - loss: 12.8610 - acc: 0.2021 - val_loss: 13.0007 - val_acc: 0.1934\n",
      "Epoch 48/50\n",
      "36907/36907 [==============================] - 1s 19us/step - loss: 12.8610 - acc: 0.2021 - val_loss: 13.0007 - val_acc: 0.1934\n",
      "Epoch 49/50\n",
      "36907/36907 [==============================] - 1s 19us/step - loss: 12.8610 - acc: 0.2021 - val_loss: 13.0007 - val_acc: 0.1934\n",
      "Epoch 50/50\n",
      "36907/36907 [==============================] - 1s 19us/step - loss: 12.8610 - acc: 0.2021 - val_loss: 13.0007 - val_acc: 0.1934\n"
     ]
    }
   ],
   "source": [
    "# Question 3\n",
    "model.compile(\n",
    "    loss=keras.losses.categorical_crossentropy,\n",
    "    optimizer=Adam(lr=0.1), #find params\n",
    "    metrics=['accuracy']\n",
    ")\n",
    "\n",
    "historyAdam = model.fit(\n",
    "    x_train, y_train,\n",
    "    validation_data=(x_test, y_test),\n",
    "    epochs=50, batch_size=128\n",
    ")"
   ]
  },
  {
   "cell_type": "markdown",
   "metadata": {},
   "source": [
    "**Question**: What happens if the learning rate of SGD is A) very large B) very small? Please answer A) and B) with one full sentence (double click this markdown cell to edit).\n",
    "\n",
    "**Answer**:\n",
    "\n",
    "A) \n",
    "\n",
    "B) "
   ]
  },
  {
   "cell_type": "markdown",
   "metadata": {},
   "source": [
    "## Exercise 3: Overfitting and early stopping with Adam\n",
    "\n",
    "### Description\n",
    "\n",
    "Run the above simulation with Adam for sufficiently many epochs (be patient!) until you see clear overfitting.\n",
    "\n",
    "1. Plot the learning curves of a fit with Adam and sufficiently many epochs and answer the questions below.\n",
    "\n",
    "A simple, but effective mean to avoid overfitting is early stopping, i.e. a fit is not run until convergence but stopped as soon as the validation error starts to increase. We will use early stopping in all subsequent exercises.\n",
    "\n",
    "### Solution"
   ]
  },
  {
   "cell_type": "code",
   "execution_count": null,
   "metadata": {},
   "outputs": [],
   "source": []
  },
  {
   "cell_type": "markdown",
   "metadata": {},
   "source": [
    "**Question 1**: At which epoch (approximately) does the model start to overfit? Please answer with one full sentence.\n",
    "\n",
    "**Answer**: \n",
    "\n",
    "**Question 2**: Explain the qualitative difference between the loss curves and the accuracy curves with respect to signs of overfitting. Please answer with at most 3 full sentences.\n",
    "\n",
    "**Answer**: "
   ]
  },
  {
   "cell_type": "markdown",
   "metadata": {},
   "source": [
    "## Exercise 4: Model performance as a function of number of hidden neurons\n",
    "\n",
    "### Description\n",
    "\n",
    "Investigate how the best validation loss and accuracy depends on the number of hidden neurons in a single layer.\n",
    "\n",
    "1. Fit a reasonable number of models with different hidden layer size (between 10 and 1000 hidden neurons) for a fixed number of epochs well beyond the point of overfitting.\n",
    "2. Collect some statistics by fitting the same models as in 1. for multiple initial conditions. Hints: 1. If you don't reset the random seed, you get different initial conditions each time you create a new model. 2. Let your computer work while you are asleep.\n",
    "3. Plot summary statistics of the final validation loss and accuracy versus the number of hidden neurons. Hint: [boxplots](https://matplotlib.org/examples/pylab_examples/boxplot_demo.html) (also [here](https://matplotlib.org/api/_as_gen/matplotlib.axes.Axes.boxplot.html?highlight=boxplot#matplotlib.axes.Axes.boxplot)) are useful. You may also want to use the matplotlib method set_xticklabels.\n",
    "4. Plot summary statistics of the loss and accuracy for early stopping versus the number of hidden neurons.\n",
    "\n",
    "### Solution"
   ]
  },
  {
   "cell_type": "code",
   "execution_count": null,
   "metadata": {},
   "outputs": [],
   "source": []
  },
  {
   "cell_type": "markdown",
   "metadata": {},
   "source": [
    "## Exercise 5: Comparison to deep models\n",
    "\n",
    "### Description\n",
    "\n",
    "Instead of choosing one hidden layer (with many neurons) you experiment here with multiple hidden layers (each with not so many neurons).\n",
    "\n",
    "1. Fit models with 2, 3 and 4 hidden layers with approximately the same number of parameters as a network with one hidden layer of 100 neurons. Hint: Calculate the number of parameters in a network with input dimensionality N_in, K hidden layers with N_h units, one output layer with N_out dimensions and solve for N_h. Confirm you result with the keras method model.summary().\n",
    "2. Run each model multiple times with different initial conditions and plot summary statistics of the best validation loss and accuracy versus the number of hidden layers.\n",
    "\n",
    "### Solution"
   ]
  },
  {
   "cell_type": "code",
   "execution_count": null,
   "metadata": {},
   "outputs": [],
   "source": []
  },
  {
   "cell_type": "markdown",
   "metadata": {},
   "source": [
    "## Exercise 6: Tricks (regularization, batch normalization, dropout)\n",
    "\n",
    "### Description\n",
    "\n",
    "Overfitting can also be counteracted with regularization and dropout. Batch normalization is supposed to mainly decrease convergence time.\n",
    "\n",
    "1. Try to improve the best validation scores of the model with 1 layer and 100 hidden neurons and the model with 4 hidden layers. Experiment with batch_normalization layers, dropout layers and l1- and l2-regularization on weights (kernels) and biases.\n",
    "2. After you have found good settings, plot for both models the learning curves of the naive model you fitted in the previous exercises together with the learning curves of the current version.\n",
    "3. For proper comparison, plot also the learning curves of the two current models in a third figure.\n",
    "\n",
    "### Solution"
   ]
  },
  {
   "cell_type": "code",
   "execution_count": null,
   "metadata": {},
   "outputs": [],
   "source": []
  },
  {
   "cell_type": "markdown",
   "metadata": {},
   "source": [
    "## Exercise 7: Convolutional networks\n",
    "\n",
    "### Description\n",
    "\n",
    "Convolutional neural networks have an inductive bias that is well adapted to image classification.\n",
    "\n",
    "1. Design a convolutional neural network, play with the parameters and fit it. Hint: You may get valuable inspiration from the keras [examples](https://github.com/keras-team/keras/tree/master/examples), e.g. [mnist_cnn](https://github.com/keras-team/keras/blob/master/examples/mnist_cnn.py).\n",
    "2. Plot the learning curves of the convolutional neural network together with the so far best performing model.\n",
    "\n",
    "## Solution"
   ]
  },
  {
   "cell_type": "code",
   "execution_count": null,
   "metadata": {},
   "outputs": [],
   "source": []
  }
 ],
 "metadata": {
  "kernelspec": {
   "display_name": "Python 3",
   "language": "python",
   "name": "python3"
  },
  "language_info": {
   "codemirror_mode": {
    "name": "ipython",
    "version": 3
   },
   "file_extension": ".py",
   "mimetype": "text/x-python",
   "name": "python",
   "nbconvert_exporter": "python",
   "pygments_lexer": "ipython3",
   "version": "3.5.2"
  }
 },
 "nbformat": 4,
 "nbformat_minor": 2
}

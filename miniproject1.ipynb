{
 "cells": [
  {
   "cell_type": "markdown",
   "metadata": {},
   "source": [
    "# Miniproject 1: Image Classification\n",
    "\n",
    "## Introduction\n",
    "\n",
    "### Description\n",
    "\n",
    "One of the deepest traditions in learning about deep learning is to first [tackle the exciting problem of MNIST classification](http://deeplearning.net/tutorial/logreg.html). [The MNIST database](https://en.wikipedia.org/wiki/MNIST_database) (Modified National Institute of Standards and Technology database) is a large database of handwritten digits that was [recently extended](https://arxiv.org/abs/1702.05373). We break with this tradition (just a little bit) and tackle first the related problem of classifying cropped, downsampled and grayscaled images of house numbers in the [The Street View House Numbers (SVHN) Dataset](http://ufldl.stanford.edu/housenumbers/).\n",
    "\n",
    "\n",
    "### Prerequisites\n",
    "\n",
    "- You should have a running installation of [tensorflow](https://www.tensorflow.org/install/) and [keras](https://keras.io/).\n",
    "- You should know the concepts \"multilayer perceptron\", \"stochastic gradient descent with minibatches\", \"training and validation data\", \"overfitting\" and \"early stopping\".\n",
    "\n",
    "### What you will learn\n",
    "\n",
    "- You will learn how to define feedforward neural networks in keras and fit them to data.\n",
    "- You will be guided through a prototyping procedure for the application of deep learning to a specific domain.\n",
    "- You will get in contact with concepts discussed later in the lecture, like \"regularization\", \"batch normalization\" and \"convolutional networks\".\n",
    "- You will gain some experience on the influence of network architecture, optimizer and regularization choices on the goodness of fit.\n",
    "- You will learn to be more patient :) Some fits may take your computer quite a bit of time; run them over night.\n",
    "\n",
    "### Evaluation criteria\n",
    "\n",
    "The evaluation is (mostly) based on the figures you submit and your answer sentences. \n",
    "We will only do random tests of your code and not re-run the full notebook.\n",
    "\n",
    "### Your names\n",
    "\n",
    "Before you start, please enter your full name(s) in the field below; they are used to load the data. The variable student2 may remain empty, if you work alone."
   ]
  },
  {
   "cell_type": "code",
   "execution_count": 1,
   "metadata": {
    "ExecuteTime": {
     "end_time": "2018-03-09T09:08:24.514461Z",
     "start_time": "2018-03-09T09:08:24.506410Z"
    },
    "collapsed": true
   },
   "outputs": [],
   "source": [
    "student1 = \"Amaury Combes\"\n",
    "sciper1 = 235400\n",
    "student2 = \"Vincenzo Bazzucchi\"\n",
    "sciper2 = 249733"
   ]
  },
  {
   "cell_type": "markdown",
   "metadata": {},
   "source": [
    "## Some helper functions\n",
    "\n",
    "For your convenience we provide here some functions to preprocess the data and plot the results later. Simply run the following cells with `Shift-Enter`.\n",
    "\n",
    "### Dependencies and constants"
   ]
  },
  {
   "cell_type": "code",
   "execution_count": 2,
   "metadata": {
    "ExecuteTime": {
     "end_time": "2018-03-09T09:09:16.113721Z",
     "start_time": "2018-03-09T09:09:16.100520Z"
    }
   },
   "outputs": [
    {
     "name": "stderr",
     "output_type": "stream",
     "text": [
      "Using TensorFlow backend.\n",
      "/Users/combes/anaconda3/lib/python3.6/importlib/_bootstrap.py:219: RuntimeWarning: compiletime version 3.5 of module 'tensorflow.python.framework.fast_tensor_util' does not match runtime version 3.6\n",
      "  return f(*args, **kwds)\n"
     ]
    }
   ],
   "source": [
    "import numpy as np\n",
    "import time\n",
    "import matplotlib.pyplot as plt\n",
    "import scipy.io\n",
    "import json\n",
    "from tqdm import tqdm\n",
    "\n",
    "import keras\n",
    "from keras.models import Sequential\n",
    "from keras.layers import Dense, Conv2D, MaxPooling2D, Dropout, Flatten, BatchNormalization\n",
    "from keras.optimizers import SGD, Adam\n",
    "\n",
    "import itertools\n",
    "import pickle\n",
    "\n",
    "# you may experiment with different subsets, \n",
    "# but make sure in the submission \n",
    "# it is generated with the correct random seed for all exercises.\n",
    "SEED = sciper1 + sciper2\n",
    "np.random.seed(SEED)\n",
    "subset_of_classes = np.random.choice(range(10), 5, replace = False)"
   ]
  },
  {
   "cell_type": "markdown",
   "metadata": {},
   "source": [
    "### Plotting"
   ]
  },
  {
   "cell_type": "code",
   "execution_count": 3,
   "metadata": {
    "collapsed": true
   },
   "outputs": [],
   "source": [
    "from pylab import rcParams\n",
    "rcParams['figure.figsize'] = 10, 6\n",
    "def plot_some_samples(x, y = [], yhat = [], select_from = [], \n",
    "                      ncols = 6, nrows = 4, xdim = 16, ydim = 16,\n",
    "                      label_mapping = range(10)):\n",
    "    \"\"\"plot some input vectors as grayscale images (optionally together with their assigned or predicted labels).\n",
    "    \n",
    "    x is an NxD - dimensional array, where D is the length of an input vector and N is the number of samples.\n",
    "    Out of the N samples, ncols x nrows indices are randomly selected from the list select_from (if it is empty, select_from becomes range(N)).\n",
    "    \n",
    "    Keyword arguments:\n",
    "    y             -- corresponding labels to plot in green below each image.\n",
    "    yhat          -- corresponding predicted labels to plot in red below each image.\n",
    "    select_from   -- list of indices from which to select the images.\n",
    "    ncols, nrows  -- number of columns and rows to plot.\n",
    "    xdim, ydim    -- number of pixels of the images in x- and y-direction.\n",
    "    label_mapping -- map labels to digits.\n",
    "    \n",
    "    \"\"\"\n",
    "    fig, ax = plt.subplots(nrows, ncols)\n",
    "    if len(select_from) == 0:\n",
    "        select_from = range(x.shape[0])\n",
    "    indices = np.random.choice(select_from, size = min(ncols * nrows, len(select_from)), replace = False)\n",
    "    for i, ind in enumerate(indices):\n",
    "        thisax = ax[i//ncols,i%ncols]\n",
    "        thisax.matshow(x[ind].reshape(xdim, ydim), cmap='gray')\n",
    "        thisax.set_axis_off()\n",
    "        if len(y) != 0:\n",
    "            j = y[ind] if type(y[ind]) != np.ndarray else y[ind].argmax()\n",
    "            thisax.text(0, 0, (label_mapping[j]+1)%10, color='green', \n",
    "                                                       verticalalignment='top',\n",
    "                                                       transform=thisax.transAxes)\n",
    "        if len(yhat) != 0:\n",
    "            k = yhat[ind] if type(yhat[ind]) != np.ndarray else yhat[ind].argmax()\n",
    "            thisax.text(1, 0, (label_mapping[k]+1)%10, color='red',\n",
    "                                             verticalalignment='top',\n",
    "                                             horizontalalignment='right',\n",
    "                                             transform=thisax.transAxes)\n",
    "    return fig\n",
    "\n",
    "def prepare_standardplot(title, xlabel):\n",
    "    fig, (ax1, ax2) = plt.subplots(1, 2)\n",
    "    fig.suptitle(title)\n",
    "    ax1.set_ylabel('categorical cross entropy')\n",
    "    ax1.set_xlabel(xlabel)\n",
    "    ax1.set_yscale('log')\n",
    "    ax2.set_ylabel('accuracy [% correct]')\n",
    "    ax2.set_xlabel(xlabel)\n",
    "    return fig, ax1, ax2\n",
    "\n",
    "def finalize_standardplot(fig, ax1, ax2):\n",
    "    ax1handles, ax1labels = ax1.get_legend_handles_labels()\n",
    "    if len(ax1labels) > 0:\n",
    "        ax1.legend(ax1handles, ax1labels)\n",
    "    ax2handles, ax2labels = ax2.get_legend_handles_labels()\n",
    "    if len(ax2labels) > 0:\n",
    "        ax2.legend(ax2handles, ax2labels)\n",
    "    fig.tight_layout()\n",
    "    plt.subplots_adjust(top=0.9)\n",
    "\n",
    "def plot_history(history, title):\n",
    "    fig, ax1, ax2 = prepare_standardplot(title, 'epoch')\n",
    "    ax1.plot(history.history['loss'], label = \"training\")\n",
    "    ax1.plot(history.history['val_loss'], label = \"validation\")\n",
    "    ax2.plot(history.history['acc'], label = \"training\")\n",
    "    ax2.plot(history.history['val_acc'], label = \"validation\")\n",
    "    finalize_standardplot(fig, ax1, ax2)\n",
    "    return fig\n"
   ]
  },
  {
   "cell_type": "markdown",
   "metadata": {},
   "source": [
    "### Loading and preprocessing the data\n",
    "\n",
    "The data consists of RGB color images with 32x32 pixels, loaded into an array of dimension 32x32x3x(number of images). We convert them to grayscale (using [this method](https://en.wikipedia.org/wiki/SRGB#The_reverse_transformation)) and we downsample them to images of 16x16 pixels by averaging over patches of 2x2 pixels.\n",
    "\n",
    "With these preprocessing steps we obviously remove some information that could be helpful in classifying the images. But, since the processed data is much lower dimensional, the fitting procedures converge faster. This is an advantage in situations like here (or generally when prototyping), were we want to try many different things without having to wait too long for computations to finish. After having gained some experience, one may want to go back to work on the 32x32 RGB images.\n"
   ]
  },
  {
   "cell_type": "code",
   "execution_count": 4,
   "metadata": {
    "collapsed": true
   },
   "outputs": [],
   "source": [
    "# convert RGB images x to grayscale using the formula for Y_linear in https://en.wikipedia.org/wiki/Grayscale#Colorimetric_(perceptual_luminance-preserving)_conversion_to_grayscale\n",
    "def grayscale(x):\n",
    "    x = x.astype('float32')/255\n",
    "    x = np.piecewise(x, [x <= 0.04045, x > 0.04045], \n",
    "                        [lambda x: x/12.92, lambda x: ((x + .055)/1.055)**2.4])\n",
    "    return .2126 * x[:,:,0,:] + .7152 * x[:,:,1,:]  + .07152 * x[:,:,2,:]\n",
    "\n",
    "def downsample(x):\n",
    "    return sum([x[i::2,j::2,:] for i in range(2) for j in range(2)])/4\n",
    "\n",
    "def preprocess(data):\n",
    "    gray = grayscale(data['X'])\n",
    "    downsampled = downsample(gray)\n",
    "    return (downsampled.reshape(16*16, gray.shape[2]).transpose(),\n",
    "            data['y'].flatten() - 1)\n",
    "\n",
    "\n",
    "data_train = scipy.io.loadmat('housenumbers/train_32x32.mat')\n",
    "data_test = scipy.io.loadmat('housenumbers/test_32x32.mat')\n",
    "\n",
    "x_train_all, y_train_all = preprocess(data_train)\n",
    "x_test_all, y_test_all = preprocess(data_test)"
   ]
  },
  {
   "cell_type": "markdown",
   "metadata": {},
   "source": [
    "### Selecting a subset of classes\n",
    "\n",
    "We furter reduce the size of the dataset (and thus reduce computation time) by selecting only the 5 (out of 10 digits) in subset_of_classes."
   ]
  },
  {
   "cell_type": "code",
   "execution_count": 5,
   "metadata": {
    "collapsed": true
   },
   "outputs": [],
   "source": [
    "def extract_classes(x, y, classes):\n",
    "    indices = []\n",
    "    labels = []\n",
    "    count = 0\n",
    "    for c in classes:\n",
    "        tmp = np.where(y == c)[0]\n",
    "        indices.extend(tmp)\n",
    "        labels.extend(np.ones(len(tmp), dtype='uint8') * count)\n",
    "        count += 1\n",
    "    return x[indices], labels\n",
    "\n",
    "x_train, y_train = extract_classes(x_train_all, y_train_all, subset_of_classes)\n",
    "x_test, y_test = extract_classes(x_test_all, y_test_all, subset_of_classes)"
   ]
  },
  {
   "cell_type": "markdown",
   "metadata": {},
   "source": [
    "Let us plot some examples now. The green digit at the bottom left of each image indicates the corresponding label in y_test.\n",
    "For further usage of the function plot_some_samples, please have a look at its definition in the plotting section."
   ]
  },
  {
   "cell_type": "code",
   "execution_count": 6,
   "metadata": {},
   "outputs": [
    {
     "data": {
      "text/plain": [
       "(12735, 256)"
      ]
     },
     "execution_count": 6,
     "metadata": {},
     "output_type": "execute_result"
    }
   ],
   "source": [
    "x_test.shape"
   ]
  },
  {
   "cell_type": "code",
   "execution_count": 7,
   "metadata": {
    "collapsed": true,
    "scrolled": false
   },
   "outputs": [],
   "source": [
    "plot_some_samples(x_test, y_test, label_mapping = subset_of_classes);"
   ]
  },
  {
   "cell_type": "markdown",
   "metadata": {},
   "source": [
    "To prepare for fitting we transform the labels to one hot coding, i.e. for 5 classes, label 2 becomes the vector [0, 0, 1, 0, 0] (python uses 0-indexing)."
   ]
  },
  {
   "cell_type": "code",
   "execution_count": 8,
   "metadata": {
    "collapsed": true
   },
   "outputs": [],
   "source": [
    "y_test_class = np.copy(y_test)"
   ]
  },
  {
   "cell_type": "code",
   "execution_count": 9,
   "metadata": {
    "collapsed": true
   },
   "outputs": [],
   "source": [
    "y_train = keras.utils.to_categorical(y_train)\n",
    "y_test = keras.utils.to_categorical(y_test)"
   ]
  },
  {
   "cell_type": "markdown",
   "metadata": {},
   "source": [
    "## Exercise 1: No hidden layer\n",
    "\n",
    "### Description\n",
    "\n",
    "Define and fit a model without a hidden layer. \n",
    "\n",
    "1. Use the softmax activation for the output layer.\n",
    "2. Use the categorical_crossentropy loss.\n",
    "3. Add the accuracy metric to the metrics.\n",
    "4. Choose stochastic gradient descent for the optimizer.\n",
    "5. Choose a minibatch size of 128.\n",
    "6. Fit for as many epochs as needed to see no further decrease in the validation loss.\n",
    "7. Plot the output of the fitting procedure (a history object) using the function plot_history defined above.\n",
    "8. Determine the indices of all test images that are misclassified by the fitted model and plot some of them using the function \n",
    "   `plot_some_samples(x_test, y_test, yhat_test, error_indices, label_mapping = subset_of_classes)`\n",
    "\n",
    "\n",
    "Hints:\n",
    "* Read the keras docs, in particular [Getting started with the Keras Sequential model](https://keras.io/getting-started/sequential-model-guide/).\n",
    "* Have a look at the keras [examples](https://github.com/keras-team/keras/tree/master/examples), e.g. [mnist_mlp](https://github.com/keras-team/keras/blob/master/examples/mnist_mlp.py)."
   ]
  },
  {
   "cell_type": "markdown",
   "metadata": {},
   "source": [
    "### Solution"
   ]
  },
  {
   "cell_type": "code",
   "execution_count": null,
   "metadata": {
    "collapsed": true,
    "scrolled": false
   },
   "outputs": [],
   "source": [
    "model = Sequential([\n",
    "    Dense(y_train.shape[1], input_shape=(x_train.shape[1],), activation=\"softmax\")\n",
    "])\n",
    "\n",
    "model.compile(\n",
    "    loss=keras.losses.categorical_crossentropy,\n",
    "    optimizer=SGD(lr=0.1), #find params\n",
    "    metrics=['accuracy']\n",
    ")\n",
    "\n",
    "history = model.fit(\n",
    "    x_train, y_train,\n",
    "    validation_data=(x_test, y_test),\n",
    "    epochs=50, batch_size=128,\n",
    ")"
   ]
  },
  {
   "cell_type": "code",
   "execution_count": null,
   "metadata": {
    "collapsed": true
   },
   "outputs": [],
   "source": [
    "for metric, value in zip(model.metrics_names, model.evaluate(x_test, y_test)):\n",
    "    print(metric, '=', value)"
   ]
  },
  {
   "cell_type": "markdown",
   "metadata": {},
   "source": [
    "The validation loss is constant around $\\approx 1.50$"
   ]
  },
  {
   "cell_type": "code",
   "execution_count": null,
   "metadata": {
    "collapsed": true
   },
   "outputs": [],
   "source": [
    "plot_history(history, \"No Hidden Layer\") # if do not store in var is displayed twice..."
   ]
  },
  {
   "cell_type": "code",
   "execution_count": null,
   "metadata": {
    "collapsed": true
   },
   "outputs": [],
   "source": [
    "y_hat = model.predict_classes(x_test)"
   ]
  },
  {
   "cell_type": "code",
   "execution_count": null,
   "metadata": {
    "collapsed": true
   },
   "outputs": [],
   "source": [
    "misclassified_indices = np.where(y_hat != y_test_class)[0]"
   ]
  },
  {
   "cell_type": "code",
   "execution_count": null,
   "metadata": {
    "collapsed": true,
    "scrolled": false
   },
   "outputs": [],
   "source": [
    "plot_some_samples(\n",
    "    x_test[misclassified_indices],\n",
    "    y_test_class[misclassified_indices],\n",
    "    y_hat[misclassified_indices],\n",
    "    label_mapping=subset_of_classes\n",
    ")"
   ]
  },
  {
   "cell_type": "markdown",
   "metadata": {},
   "source": [
    "## Exercise 2: One hidden layer, different optizimizers\n",
    "### Description\n",
    "\n",
    "Train a network with one hidden layer and compare different optimizers.\n",
    "\n",
    "1. Use one hidden layer with 64 units and the 'relu' activation. Use the [summary method](https://keras.io/models/about-keras-models/) to inspect your model.\n",
    "2. Fit the model for 50 epochs with different learning rates of stochastic gradient descent and answer the question below.\n",
    "3. Replace the stochastic gradient descent optimizer with the [Adam optimizer](https://keras.io/optimizers/#adam).\n",
    "4. Plot the learning curves of SGD with a reasonable learning rate together with the learning curves of Adam in the same figure. Take care of a reasonable labeling of the curves in the plot."
   ]
  },
  {
   "cell_type": "markdown",
   "metadata": {},
   "source": [
    "### Solution"
   ]
  },
  {
   "cell_type": "markdown",
   "metadata": {},
   "source": [
    "#### Question 1"
   ]
  },
  {
   "cell_type": "code",
   "execution_count": null,
   "metadata": {
    "collapsed": true,
    "scrolled": true
   },
   "outputs": [],
   "source": [
    "model = Sequential([\n",
    "    Dense(64, input_shape=(x_train.shape[1],), activation=\"relu\"),\n",
    "    Dense(y_train.shape[1], activation=\"softmax\")\n",
    "])\n",
    "\n",
    "model.compile(\n",
    "    loss=keras.losses.categorical_crossentropy,\n",
    "    optimizer=SGD(lr=0.01),\n",
    "    metrics=['accuracy']\n",
    ")\n",
    "\n",
    "historySGD = model.fit(\n",
    "    x_train, y_train,\n",
    "    validation_data=(x_test, y_test),\n",
    "    epochs=50,\n",
    "    verbose=0\n",
    ")"
   ]
  },
  {
   "cell_type": "code",
   "execution_count": null,
   "metadata": {
    "collapsed": true
   },
   "outputs": [],
   "source": [
    "model.summary()"
   ]
  },
  {
   "cell_type": "code",
   "execution_count": null,
   "metadata": {
    "collapsed": true
   },
   "outputs": [],
   "source": [
    "plot_history(historySGD, \"SGD\") # if do not store in var is displayed twice..."
   ]
  },
  {
   "cell_type": "markdown",
   "metadata": {},
   "source": [
    "#### Question 2"
   ]
  },
  {
   "cell_type": "code",
   "execution_count": null,
   "metadata": {
    "collapsed": true
   },
   "outputs": [],
   "source": [
    "LARGE_RATE = 0.9\n",
    "SMALL_RATE = 10**(-6)"
   ]
  },
  {
   "cell_type": "code",
   "execution_count": null,
   "metadata": {
    "collapsed": true
   },
   "outputs": [],
   "source": [
    "sgd_test_rate = Sequential([\n",
    "    Dense(64, input_shape=(x_train.shape[1],), activation=\"relu\"),\n",
    "    Dense(y_train.shape[1], activation=\"softmax\")\n",
    "])"
   ]
  },
  {
   "cell_type": "code",
   "execution_count": null,
   "metadata": {
    "collapsed": true
   },
   "outputs": [],
   "source": [
    "sgd_test_rate.compile(\n",
    "    loss=keras.losses.categorical_crossentropy,\n",
    "    optimizer=SGD(lr=LARGE_RATE),\n",
    "    metrics=['accuracy']\n",
    ")\n",
    "\n",
    "plot_history(sgd_test_rate.fit(\n",
    "    x_train, y_train,\n",
    "    validation_data=(x_test, y_test),\n",
    "    epochs=50,\n",
    "    verbose=0\n",
    "), \"SGD with very large learning rate\")"
   ]
  },
  {
   "cell_type": "code",
   "execution_count": null,
   "metadata": {
    "collapsed": true
   },
   "outputs": [],
   "source": [
    "sgd_test_rate.compile(\n",
    "    loss=keras.losses.categorical_crossentropy,\n",
    "    optimizer=SGD(lr=SMALL_RATE),\n",
    "    metrics=['accuracy']\n",
    ")\n",
    "\n",
    "plot_history(sgd_test_rate.fit(\n",
    "    x_train, y_train,\n",
    "    validation_data=(x_test, y_test),\n",
    "    epochs=50,\n",
    "    verbose=0\n",
    "), \"SGD with very small learning rate\")"
   ]
  },
  {
   "cell_type": "markdown",
   "metadata": {},
   "source": [
    "**Question**: What happens if the learning rate of SGD is A) very large B) very small? Please answer A) and B) with one full sentence (double click this markdown cell to edit).\n",
    "\n",
    "**Answer**:\n",
    "\n",
    "A) The validation error and accuracy are very \"unstable\", the search for the optimal value goes in the wrong direction many times\n",
    "\n",
    "B) The improvement is very slow but constant: we would need three times the number of epochs to reach the best result obtained with the larger learning rate"
   ]
  },
  {
   "cell_type": "markdown",
   "metadata": {},
   "source": [
    "#### Question 3"
   ]
  },
  {
   "cell_type": "code",
   "execution_count": null,
   "metadata": {
    "collapsed": true,
    "scrolled": true
   },
   "outputs": [],
   "source": [
    "model.compile(\n",
    "    loss=keras.losses.categorical_crossentropy,\n",
    "    optimizer=Adam(lr=0.001),\n",
    "    metrics=['accuracy']\n",
    ")\n",
    "\n",
    "historyAdam = model.fit(\n",
    "    x_train, y_train,\n",
    "    validation_data=(x_test, y_test),\n",
    "    epochs=50,\n",
    "    verbose=0\n",
    ")"
   ]
  },
  {
   "cell_type": "code",
   "execution_count": null,
   "metadata": {
    "collapsed": true
   },
   "outputs": [],
   "source": [
    "plot_history(historyAdam, \"Adam\") # if do not store in var is displayed twice..."
   ]
  },
  {
   "cell_type": "markdown",
   "metadata": {},
   "source": [
    "Using the same learning rate with Adam and SGD does not allow Adam to improve its accuracy, therefore we changed it here"
   ]
  },
  {
   "cell_type": "markdown",
   "metadata": {},
   "source": [
    "#### Question 4"
   ]
  },
  {
   "cell_type": "code",
   "execution_count": null,
   "metadata": {
    "collapsed": true
   },
   "outputs": [],
   "source": [
    "fig, ax1, ax2 = prepare_standardplot(\"Comparing SGD and ADAM\", 'epoch')\n",
    "ax1.plot(historySGD.history['loss'], label = \"training with SGD\", linestyle='--', c='b')\n",
    "ax1.plot(historySGD.history['val_loss'], label = \"validation with SGD\", linestyle='-', c='b')\n",
    "ax2.plot(historySGD.history['acc'], label = \"training with SGD\", linestyle='--', c='b')\n",
    "ax2.plot(historySGD.history['val_acc'], label = \"validation with SGD\", linestyle='-', c='b')\n",
    "\n",
    "ax1.plot(historyAdam.history['loss'], label = \"training with Adam\", linestyle='--', c='orange')\n",
    "ax1.plot(historyAdam.history['val_loss'], label = \"validation with Adam\", linestyle='-', c='orange')\n",
    "ax2.plot(historyAdam.history['acc'], label = \"training with Adam\", linestyle='--', c='orange')\n",
    "ax2.plot(historyAdam.history['val_acc'], label = \"validation with Adam\", linestyle='-', c='orange')\n",
    "finalize_standardplot(fig, ax1, ax2)"
   ]
  },
  {
   "cell_type": "markdown",
   "metadata": {},
   "source": [
    "## Exercise 3: Overfitting and early stopping with Adam\n",
    "\n",
    "### Description\n",
    "\n",
    "Run the above simulation with Adam for sufficiently many epochs (be patient!) until you see clear overfitting.\n",
    "\n",
    "1. Plot the learning curves of a fit with Adam and sufficiently many epochs and answer the questions below.\n",
    "\n",
    "A simple, but effective mean to avoid overfitting is early stopping, i.e. a fit is not run until convergence but stopped as soon as the validation error starts to increase. We will use early stopping in all subsequent exercises.\n",
    "\n",
    "### Solution"
   ]
  },
  {
   "cell_type": "code",
   "execution_count": null,
   "metadata": {
    "collapsed": true
   },
   "outputs": [],
   "source": [
    "model.compile(\n",
    "    loss=keras.losses.categorical_crossentropy,\n",
    "    optimizer=Adam(lr=0.001),\n",
    "    metrics=['accuracy']\n",
    ")\n",
    "\n",
    "historyAdam = model.fit(\n",
    "    x_train, y_train,\n",
    "    validation_data=(x_test, y_test),\n",
    "    epochs=60,\n",
    "    verbose=0\n",
    ")"
   ]
  },
  {
   "cell_type": "code",
   "execution_count": null,
   "metadata": {
    "collapsed": true
   },
   "outputs": [],
   "source": [
    "plot_history(historyAdam, \"Adam\")"
   ]
  },
  {
   "cell_type": "markdown",
   "metadata": {},
   "source": [
    "The training we ran before was already overfitting: we can clearly see that the training error keeps decreasing while the validation error stays stable. We can see the same pattern observing the accuracy: the training accuracy keeps increasing while the validation accuracy is mostly stable"
   ]
  },
  {
   "cell_type": "markdown",
   "metadata": {},
   "source": [
    "**Question 1**: At which epoch (approximately) does the model start to overfit? Please answer with one full sentence.\n",
    "\n",
    "**Answer**: After epoch 20 we clearly see that the validation error stays stable or increases while the training error keeps decreasing\n",
    "\n",
    "**Question 2**: Explain the qualitative difference between the loss curves and the accuracy curves with respect to signs of overfitting. Please answer with at most 3 full sentences.\n",
    "\n",
    "**Answer**: # TODO"
   ]
  },
  {
   "cell_type": "markdown",
   "metadata": {},
   "source": [
    "As discussed in the forum, we should not use `keras.callbacks.EarlyStopping`. Therefore we implemented early stopping as described in the Deeplearning book: each time the validation accuracy improves, we take a snapshot of the model weights"
   ]
  },
  {
   "cell_type": "code",
   "execution_count": null,
   "metadata": {
    "collapsed": true
   },
   "outputs": [],
   "source": [
    "class RealEarlyStopper(keras.callbacks.Callback):\n",
    "    def __init__(self, set_best_at_end=True):\n",
    "        self._best_score = -1\n",
    "        self._best_weights = None\n",
    "        self._set_best_at_end = set_best_at_end\n",
    "    \n",
    "    def on_epoch_end(self, epoch=None, logs={}):\n",
    "        valacc = logs['val_acc']\n",
    "        if valacc > self._best_score:\n",
    "            self._best_score = valacc\n",
    "            self._best_weights = [np.copy(layer.get_weights()) for layer in self.model.layers]\n",
    "        \n",
    "    def on_train_end(self, logs={}):\n",
    "        if not self._set_best_at_end:\n",
    "            return\n",
    "        print('Restoring the model parameters giving best validation accuracy: {}'.format(self._best_score))\n",
    "        for layer, best_weights in zip(self.model.layers, self._best_weights):\n",
    "            layer.set_weights(best_weights)"
   ]
  },
  {
   "cell_type": "code",
   "execution_count": null,
   "metadata": {
    "collapsed": true,
    "scrolled": false
   },
   "outputs": [],
   "source": [
    "model.compile(\n",
    "    loss=keras.losses.categorical_crossentropy,\n",
    "    optimizer=Adam(lr=0.001),\n",
    "    metrics=['accuracy']\n",
    ")\n",
    "\n",
    "historyAdam = model.fit(\n",
    "    x_train, y_train,\n",
    "    validation_data=(x_test, y_test),\n",
    "    epochs=75,\n",
    "    verbose=0,\n",
    "    callbacks=[RealEarlyStopper()]\n",
    ")"
   ]
  },
  {
   "cell_type": "markdown",
   "metadata": {},
   "source": [
    "## Exercise 4: Model performance as a function of number of hidden neurons\n",
    "\n",
    "### Description\n",
    "\n",
    "Investigate how the best validation loss and accuracy depends on the number of hidden neurons in a single layer.\n",
    "\n",
    "1. Fit a reasonable number of models with different hidden layer size (between 10 and 1000 hidden neurons) for a fixed number of epochs well beyond the point of overfitting.\n",
    "2. Collect some statistics by fitting the same models as in 1. for multiple initial conditions. Hints: 1. If you don't reset the random seed, you get different initial conditions each time you create a new model. 2. Let your computer work while you are asleep.\n",
    "3. Plot summary statistics of the final validation loss and accuracy versus the number of hidden neurons. Hint: [boxplots](https://matplotlib.org/examples/pylab_examples/boxplot_demo.html) (also [here](https://matplotlib.org/api/_as_gen/matplotlib.axes.Axes.boxplot.html?highlight=boxplot#matplotlib.axes.Axes.boxplot)) are useful. You may also want to use the matplotlib method set_xticklabels.\n",
    "4. Plot summary statistics of the loss and accuracy for early stopping versus the number of hidden neurons.\n",
    "\n",
    "### Solution"
   ]
  },
  {
   "cell_type": "markdown",
   "metadata": {},
   "source": [
    "As we observed from our previous plots, the Adam optimizer converges much quicker than the SGD one. Therefore we will use it here. We saw that the model start to overfit at around 20 so we will train it for 35 epochs.\n",
    "\n",
    "As from the hint we do not have to take care of the random initialization of parameters: we use the Glorot uniform initialization (one of the most used and effective as described in the Deeplearning book) for the weigths without specifying the same seed to have different random weights at each call and initialize the biases to zero.\n",
    "\n",
    "As we want to investigate the **best validation loss and accuracy** we use our previously defined RealEarlyStopper"
   ]
  },
  {
   "cell_type": "code",
   "execution_count": 36,
   "metadata": {
    "collapsed": true
   },
   "outputs": [],
   "source": [
    "def get_flat_model_result(hidden_neurons, early_stopping):\n",
    "    m = Sequential([\n",
    "        Dense(\n",
    "            hidden_neurons, input_shape=(x_train.shape[1],),\n",
    "            activation=\"relu\"\n",
    "        ),\n",
    "        Dense(\n",
    "            y_train.shape[1],\n",
    "            activation=\"softmax\"\n",
    "        )\n",
    "    ])\n",
    "    \n",
    "    m.compile(\n",
    "        loss=keras.losses.categorical_crossentropy,\n",
    "        optimizer=Adam(lr=0.001),\n",
    "        metrics=['accuracy']\n",
    "    )\n",
    "    \n",
    "    h = m.fit(\n",
    "        x_train, y_train,\n",
    "        validation_data=(x_test, y_test),\n",
    "        epochs=50,\n",
    "        verbose=0,\n",
    "        callbacks=[RealEarlyStopper(True)] if early_stopping else None\n",
    "        )\n",
    "    \n",
    "    return m.evaluate(x_test, y_test, verbose=0)"
   ]
  },
  {
   "cell_type": "markdown",
   "metadata": {},
   "source": [
    "#### Question 1"
   ]
  },
  {
   "cell_type": "code",
   "execution_count": 37,
   "metadata": {
    "collapsed": true
   },
   "outputs": [],
   "source": [
    "hidden_neurons = [5, 10, 50, 100, 175, 250, 400, 550, 775, 970]\n",
    "N = len(hidden_neurons)"
   ]
  },
  {
   "cell_type": "code",
   "execution_count": 38,
   "metadata": {
    "scrolled": false
   },
   "outputs": [
    {
     "name": "stdout",
     "output_type": "stream",
     "text": [
      "Completed train 1/10\n",
      "Completed train 2/10\n",
      "Completed train 3/10\n",
      "Completed train 4/10\n",
      "Completed train 5/10\n",
      "Completed train 6/10\n",
      "Completed train 7/10\n",
      "Completed train 8/10\n",
      "Completed train 9/10\n",
      "Completed train 10/10\n"
     ]
    }
   ],
   "source": [
    "stats = []\n",
    "for idx, hid in enumerate(hidden_neurons):\n",
    "    stats.append(get_flat_model_result(hid, False))\n",
    "    print(\"Completed train {}/{}\".format(idx+1, N))\n",
    "    \n",
    "with open('exercise4-q1.json', 'w') as f:\n",
    "    json.dump(stats, f)"
   ]
  },
  {
   "cell_type": "markdown",
   "metadata": {},
   "source": [
    "#### Question 2"
   ]
  },
  {
   "cell_type": "code",
   "execution_count": null,
   "metadata": {},
   "outputs": [
    {
     "name": "stderr",
     "output_type": "stream",
     "text": [
      "1it [17:17, 1037.90s/it]"
     ]
    },
    {
     "name": "stdout",
     "output_type": "stream",
     "text": [
      "Completed train 1/10\n"
     ]
    },
    {
     "name": "stderr",
     "output_type": "stream",
     "text": [
      "\r",
      "2it [35:09, 1054.55s/it]"
     ]
    },
    {
     "name": "stdout",
     "output_type": "stream",
     "text": [
      "Completed train 2/10\n"
     ]
    },
    {
     "name": "stderr",
     "output_type": "stream",
     "text": [
      "\r",
      "3it [54:58, 1099.45s/it]"
     ]
    },
    {
     "name": "stdout",
     "output_type": "stream",
     "text": [
      "Completed train 3/10\n"
     ]
    },
    {
     "name": "stderr",
     "output_type": "stream",
     "text": [
      "\r",
      "4it [1:18:12, 1173.21s/it]"
     ]
    },
    {
     "name": "stdout",
     "output_type": "stream",
     "text": [
      "Completed train 4/10\n"
     ]
    },
    {
     "name": "stderr",
     "output_type": "stream",
     "text": [
      "\r",
      "5it [2:29:27, 1793.45s/it]"
     ]
    },
    {
     "name": "stdout",
     "output_type": "stream",
     "text": [
      "Completed train 5/10\n"
     ]
    },
    {
     "name": "stderr",
     "output_type": "stream",
     "text": [
      "\r",
      "6it [2:55:26, 1754.46s/it]"
     ]
    },
    {
     "name": "stdout",
     "output_type": "stream",
     "text": [
      "Completed train 6/10\n"
     ]
    },
    {
     "name": "stderr",
     "output_type": "stream",
     "text": [
      "\r",
      "7it [3:22:18, 1734.11s/it]"
     ]
    },
    {
     "name": "stdout",
     "output_type": "stream",
     "text": [
      "Completed train 7/10\n"
     ]
    }
   ],
   "source": [
    "try_per_model = 7\n",
    "\n",
    "stats = []\n",
    "\n",
    "for idx, hid in tqdm(enumerate(hidden_neurons)):\n",
    "    for _ in range(try_per_model):\n",
    "        \n",
    "        stats.append(get_flat_model_result(hid, False))\n",
    "        \n",
    "    print(\"Completed train {}/{}\".format(idx+1, N))\n",
    "    \n",
    "with open('exercise4-q2.json', 'w') as f:\n",
    "    json.dump(stats, f)"
   ]
  },
  {
   "cell_type": "markdown",
   "metadata": {},
   "source": [
    "#### Question 3"
   ]
  },
  {
   "cell_type": "code",
   "execution_count": null,
   "metadata": {
    "collapsed": true
   },
   "outputs": [],
   "source": [
    "losses, accuracies = zip(np.array(stats))\n",
    "losses = np.reshape(losses, (10, 7))\n",
    "accuracies = np.reshape(accuracies, (10, 7))"
   ]
  },
  {
   "cell_type": "code",
   "execution_count": null,
   "metadata": {
    "collapsed": true
   },
   "outputs": [],
   "source": [
    "fig, (ax_loss, ax_acc) = plt.subplots(nrows=1, ncols=2)#, sharey=True)\n",
    "\n",
    "losses, accuracies = zip(*stats)\n",
    "\n",
    "ax_loss.boxplot(losses)\n",
    "ax_loss.set_title(\"Validation loss\")\n",
    "#ax_loss.set_yticklabels(hidden_neurons) # I am not sure it makes any sense: to build boxplot points are not kept in the same order\n",
    "\n",
    "\n",
    "ax_acc.boxplot(accuracies)\n",
    "ax_acc.set_title(\"Validation accuracy\")\n",
    "#ax_acc.set_yticklabels(hidden_neurons)"
   ]
  },
  {
   "cell_type": "code",
   "execution_count": null,
   "metadata": {
    "collapsed": true
   },
   "outputs": [],
   "source": [
    "fig, (ax_loss, ax_acc) = plt.subplots(nrows=1, ncols=2, sharey=True)\n",
    "\n",
    "ax_loss.plot(hidden_neurons, losses)\n",
    "ax_loss.set_title(\"Validation loss\")\n",
    "ax_acc.plot(hidden_neurons, accuracies)\n",
    "ax_acc.set_title(\"Validation accuracy\")"
   ]
  },
  {
   "cell_type": "markdown",
   "metadata": {},
   "source": [
    "#### Question 4"
   ]
  },
  {
   "cell_type": "code",
   "execution_count": null,
   "metadata": {
    "collapsed": true
   },
   "outputs": [],
   "source": [
    "try_per_model = 4\n",
    "\n",
    "stats = []\n",
    "\n",
    "for idx, hid in enumerate(hidden_neurons):\n",
    "    for _ in range(try_per_model):\n",
    "        \n",
    "        stats.append(get_flat_model_result(hid, True))\n",
    "        \n",
    "    print(\"Completed train {}/{}\".format(idx+1, N))\n",
    "    \n",
    "with open('exercise4-q4.json', 'w') as f:\n",
    "    json.dump(stats, f)"
   ]
  },
  {
   "cell_type": "markdown",
   "metadata": {},
   "source": [
    "## Exercise 5: Comparison to deep models\n",
    "\n",
    "### Description\n",
    "\n",
    "Instead of choosing one hidden layer (with many neurons) you experiment here with multiple hidden layers (each with not so many neurons).\n",
    "\n",
    "1. Fit models with 2, 3 and 4 hidden layers with approximately the same number of parameters as a network with one hidden layer of 100 neurons. Hint: Calculate the number of parameters in a network with input dimensionality N_in, K hidden layers with N_h units, one output layer with N_out dimensions and solve for N_h. Confirm you result with the keras method model.summary().\n",
    "2. Run each model multiple times with different initial conditions and plot summary statistics of the best validation loss and accuracy versus the number of hidden layers.\n",
    "\n",
    "### Solution"
   ]
  },
  {
   "cell_type": "markdown",
   "metadata": {},
   "source": [
    "#### Question 1"
   ]
  },
  {
   "cell_type": "markdown",
   "metadata": {},
   "source": [
    "#### Fit models with 2, 3 and 4 hidden layers with approximately the same number of parameters as a network with one hidden layer of 100 neurons"
   ]
  },
  {
   "cell_type": "code",
   "execution_count": 39,
   "metadata": {
    "collapsed": true
   },
   "outputs": [],
   "source": [
    "def dense_factory(input_, output, weight_regularizer, bias_regularizer, activation='softmax'):\n",
    "    return Dense(\n",
    "        output,\n",
    "        input_shape=(input_,),\n",
    "        activation=activation,\n",
    "        kernel_regularizer=weight_regularizer,\n",
    "        bias_regularizer=bias_regularizer\n",
    "    )\n",
    "\n",
    "def model_factory(units, layers, batch_normalization, weight_regularizer, bias_regularizer, dropout=None, input_dropout=None):\n",
    "        \n",
    "    model_builder = Sequential()\n",
    "    \n",
    "    # Input layer\n",
    "    model_builder.add(dense_factory(x_train.shape[1], units, weight_regularizer, bias_regularizer, 'relu')) \n",
    "    if dropout is not None:\n",
    "        model_builder.add(Dropout(input_dropout))\n",
    "        \n",
    "    if batch_normalization is not None:\n",
    "        model_builder.add(BatchNormalization())\n",
    "        \n",
    "    # Hidden layers\n",
    "    for i in range(layers-1):\n",
    "        model_builder.add(dense_factory((units,), units, weight_regularizer, bias_regularizer, 'relu'))\n",
    "        if dropout is not None:\n",
    "            model_builder.add(Dropout(dropout))\n",
    "            \n",
    "        if batch_normalization is not None:\n",
    "            model_builder.add(BatchNormalization())\n",
    "        \n",
    "    # Output layer\n",
    "    model_builder.add(dense_factory((units,), y_train.shape[1], weight_regularizer, bias_regularizer))\n",
    "    if dropout is not None:\n",
    "        model_builder.add(Dropout(dropout))\n",
    "        \n",
    "    if batch_normalization is not None:\n",
    "        model_builder.add(BatchNormalization())\n",
    "    \n",
    "    return model_builder\n",
    "\n",
    "# Factories for required models\n",
    "size_per_layer_1_hidden = 100\n",
    "size_per_layer_2_hidden = 77\n",
    "size_per_layer_3_hidden = 66\n",
    "size_per_layer_4_hidden = 59\n",
    "\n",
    "def model_1_hidden_factory(batch_normalization=None, weight_regularizer=None, bias_regularizer=None, dropout=None, input_dropout=None):\n",
    "    return model_factory(size_per_layer_1_hidden, 1, batch_normalization, weight_regularizer, bias_regularizer, dropout, input_dropout)\n",
    "\n",
    "def model_2_hidden_factory(batch_normalization=None, weight_regularizer=None, bias_regularizer=None, dropout=None, input_dropout=None):\n",
    "    return model_factory(size_per_layer_2_hidden, 2, batch_normalization, weight_regularizer, bias_regularizer, dropout, input_dropout)\n",
    "\n",
    "def model_3_hidden_factory(batch_normalization=None, weight_regularizer=None, bias_regularizer=None, dropout=None, input_dropout=None):\n",
    "    return model_factory(size_per_layer_3_hidden, 3, batch_normalization, weight_regularizer, bias_regularizer, dropout, input_dropout)\n",
    "\n",
    "def model_4_hidden_factory(batch_normalization=None, weight_regularizer=None, bias_regularizer=None, dropout=None, input_dropout=None):\n",
    "    return model_factory(size_per_layer_4_hidden, 4, batch_normalization, weight_regularizer, bias_regularizer, dropout, input_dropout)\n",
    "\n",
    "def compile_model(model):\n",
    "    model.compile(\n",
    "        loss=keras.losses.categorical_crossentropy,\n",
    "        optimizer=Adam(lr=0.001),\n",
    "        metrics=['accuracy']\n",
    "    )\n",
    "    \n",
    "def fit_model(model, x_train=x_train, y_train=y_train, x_test=x_test, y_test=y_test, iter_=35, verbose=0):\n",
    "    h = model.fit(\n",
    "        x_train, y_train,\n",
    "        validation_data=(x_test, y_test),\n",
    "        epochs=iter_,\n",
    "        verbose=verbose\n",
    "    )   \n",
    "    return h"
   ]
  },
  {
   "cell_type": "markdown",
   "metadata": {},
   "source": [
    "#### Confirm you result with the keras method model.summary()"
   ]
  },
  {
   "cell_type": "code",
   "execution_count": 40,
   "metadata": {},
   "outputs": [
    {
     "name": "stdout",
     "output_type": "stream",
     "text": [
      "_________________________________________________________________\n",
      "Layer (type)                 Output Shape              Param #   \n",
      "=================================================================\n",
      "dense_140 (Dense)            (None, 100)               25700     \n",
      "_________________________________________________________________\n",
      "dense_141 (Dense)            (None, 5)                 505       \n",
      "=================================================================\n",
      "Total params: 26,205\n",
      "Trainable params: 26,205\n",
      "Non-trainable params: 0\n",
      "_________________________________________________________________\n",
      "_________________________________________________________________\n",
      "Layer (type)                 Output Shape              Param #   \n",
      "=================================================================\n",
      "dense_142 (Dense)            (None, 77)                19789     \n",
      "_________________________________________________________________\n",
      "dense_143 (Dense)            (None, 77)                6006      \n",
      "_________________________________________________________________\n",
      "dense_144 (Dense)            (None, 5)                 390       \n",
      "=================================================================\n",
      "Total params: 26,185\n",
      "Trainable params: 26,185\n",
      "Non-trainable params: 0\n",
      "_________________________________________________________________\n",
      "_________________________________________________________________\n",
      "Layer (type)                 Output Shape              Param #   \n",
      "=================================================================\n",
      "dense_145 (Dense)            (None, 66)                16962     \n",
      "_________________________________________________________________\n",
      "dense_146 (Dense)            (None, 66)                4422      \n",
      "_________________________________________________________________\n",
      "dense_147 (Dense)            (None, 66)                4422      \n",
      "_________________________________________________________________\n",
      "dense_148 (Dense)            (None, 5)                 335       \n",
      "=================================================================\n",
      "Total params: 26,141\n",
      "Trainable params: 26,141\n",
      "Non-trainable params: 0\n",
      "_________________________________________________________________\n",
      "_________________________________________________________________\n",
      "Layer (type)                 Output Shape              Param #   \n",
      "=================================================================\n",
      "dense_149 (Dense)            (None, 59)                15163     \n",
      "_________________________________________________________________\n",
      "dense_150 (Dense)            (None, 59)                3540      \n",
      "_________________________________________________________________\n",
      "dense_151 (Dense)            (None, 59)                3540      \n",
      "_________________________________________________________________\n",
      "dense_152 (Dense)            (None, 59)                3540      \n",
      "_________________________________________________________________\n",
      "dense_153 (Dense)            (None, 5)                 300       \n",
      "=================================================================\n",
      "Total params: 26,083\n",
      "Trainable params: 26,083\n",
      "Non-trainable params: 0\n",
      "_________________________________________________________________\n"
     ]
    }
   ],
   "source": [
    "model_1_hidden_factory().summary()\n",
    "model_2_hidden_factory().summary()\n",
    "model_3_hidden_factory().summary()\n",
    "model_4_hidden_factory().summary()"
   ]
  },
  {
   "cell_type": "markdown",
   "metadata": {},
   "source": [
    "#### Question 2"
   ]
  },
  {
   "cell_type": "code",
   "execution_count": 41,
   "metadata": {
    "scrolled": true
   },
   "outputs": [
    {
     "name": "stdout",
     "output_type": "stream",
     "text": [
      "Training model 1 / 4\n",
      "Inner step: 1 / 20\n",
      "Inner step: 2 / 20\n",
      "Inner step: 3 / 20\n",
      "Inner step: 4 / 20\n",
      "Inner step: 5 / 20\n",
      "Inner step: 6 / 20\n",
      "Inner step: 7 / 20\n",
      "Inner step: 8 / 20\n",
      "Inner step: 9 / 20\n",
      "Inner step: 10 / 20\n",
      "Inner step: 11 / 20\n",
      "Inner step: 12 / 20\n",
      "Inner step: 13 / 20\n",
      "Inner step: 14 / 20\n",
      "Inner step: 15 / 20\n",
      "Inner step: 16 / 20\n",
      "Inner step: 17 / 20\n",
      "Inner step: 18 / 20\n",
      "Inner step: 19 / 20\n",
      "Inner step: 20 / 20\n",
      "Training model 2 / 4\n",
      "Inner step: 1 / 20\n",
      "Inner step: 2 / 20\n",
      "Inner step: 3 / 20\n",
      "Inner step: 4 / 20\n",
      "Inner step: 5 / 20\n",
      "Inner step: 6 / 20\n",
      "Inner step: 7 / 20\n",
      "Inner step: 8 / 20\n",
      "Inner step: 9 / 20\n",
      "Inner step: 10 / 20\n",
      "Inner step: 11 / 20\n",
      "Inner step: 12 / 20\n",
      "Inner step: 13 / 20\n",
      "Inner step: 14 / 20\n",
      "Inner step: 15 / 20\n",
      "Inner step: 16 / 20\n",
      "Inner step: 17 / 20\n",
      "Inner step: 18 / 20\n",
      "Inner step: 19 / 20\n",
      "Inner step: 20 / 20\n",
      "Training model 3 / 4\n",
      "Inner step: 1 / 20\n",
      "Inner step: 2 / 20\n",
      "Inner step: 3 / 20\n",
      "Inner step: 4 / 20\n",
      "Inner step: 5 / 20\n",
      "Inner step: 6 / 20\n",
      "Inner step: 7 / 20\n",
      "Inner step: 8 / 20\n",
      "Inner step: 9 / 20\n",
      "Inner step: 10 / 20\n",
      "Inner step: 11 / 20\n",
      "Inner step: 12 / 20\n",
      "Inner step: 13 / 20\n",
      "Inner step: 14 / 20\n",
      "Inner step: 15 / 20\n",
      "Inner step: 16 / 20\n",
      "Inner step: 17 / 20\n",
      "Inner step: 18 / 20\n",
      "Inner step: 19 / 20\n",
      "Inner step: 20 / 20\n",
      "Training model 4 / 4\n",
      "Inner step: 1 / 20\n",
      "Inner step: 2 / 20\n",
      "Inner step: 3 / 20\n",
      "Inner step: 4 / 20\n",
      "Inner step: 5 / 20\n",
      "Inner step: 6 / 20\n",
      "Inner step: 7 / 20\n",
      "Inner step: 8 / 20\n",
      "Inner step: 9 / 20\n",
      "Inner step: 10 / 20\n",
      "Inner step: 11 / 20\n",
      "Inner step: 12 / 20\n",
      "Inner step: 13 / 20\n",
      "Inner step: 14 / 20\n",
      "Inner step: 15 / 20\n",
      "Inner step: 16 / 20\n",
      "Inner step: 17 / 20\n",
      "Inner step: 18 / 20\n",
      "Inner step: 19 / 20\n",
      "Inner step: 20 / 20\n"
     ]
    },
    {
     "ename": "TypeError",
     "evalue": "can't pickle _thread.lock objects",
     "output_type": "error",
     "traceback": [
      "\u001b[0;31m---------------------------------------------------------------------------\u001b[0m",
      "\u001b[0;31mTypeError\u001b[0m                                 Traceback (most recent call last)",
      "\u001b[0;32m<ipython-input-41-5aef0b54843d>\u001b[0m in \u001b[0;36m<module>\u001b[0;34m()\u001b[0m\n\u001b[1;32m     25\u001b[0m \u001b[0;32mwith\u001b[0m \u001b[0mopen\u001b[0m\u001b[0;34m(\u001b[0m\u001b[0;34m'ex5_histories.pkl'\u001b[0m\u001b[0;34m,\u001b[0m \u001b[0;34m'wb'\u001b[0m\u001b[0;34m)\u001b[0m \u001b[0;32mas\u001b[0m \u001b[0moutput\u001b[0m\u001b[0;34m:\u001b[0m\u001b[0;34m\u001b[0m\u001b[0m\n\u001b[1;32m     26\u001b[0m     \u001b[0;32mfor\u001b[0m \u001b[0mresult_history\u001b[0m \u001b[0;32min\u001b[0m \u001b[0mresults\u001b[0m\u001b[0;34m:\u001b[0m\u001b[0;34m\u001b[0m\u001b[0m\n\u001b[0;32m---> 27\u001b[0;31m         \u001b[0mpickle\u001b[0m\u001b[0;34m.\u001b[0m\u001b[0mdump\u001b[0m\u001b[0;34m(\u001b[0m\u001b[0mresult_history\u001b[0m\u001b[0;34m,\u001b[0m \u001b[0moutput\u001b[0m\u001b[0;34m,\u001b[0m \u001b[0mpickle\u001b[0m\u001b[0;34m.\u001b[0m\u001b[0mHIGHEST_PROTOCOL\u001b[0m\u001b[0;34m)\u001b[0m\u001b[0;34m\u001b[0m\u001b[0m\n\u001b[0m",
      "\u001b[0;31mTypeError\u001b[0m: can't pickle _thread.lock objects"
     ]
    }
   ],
   "source": [
    "model_factories = [model_1_hidden_factory, model_2_hidden_factory, model_3_hidden_factory, model_4_hidden_factory]\n",
    "\n",
    "try_per_model = 20\n",
    "\n",
    "results = []\n",
    "\n",
    "for i, factory in enumerate(model_factories):\n",
    "    print('Training model', i + 1, '/', len(model_factories))\n",
    "    \n",
    "    curr_model_res = []\n",
    "    \n",
    "    for i in range(try_per_model):\n",
    "        print('Inner step:', i+1, '/', try_per_model)\n",
    "        \n",
    "        model = factory()\n",
    "        \n",
    "        compile_model(model)\n",
    "        \n",
    "        h = fit_model(model, x_train, y_train, x_test, y_test, 50)\n",
    "        \n",
    "        curr_model_res.append(h)\n",
    "        \n",
    "    results.append(curr_model_res)\n",
    "    \n",
    "with open('ex5_histories.pkl', 'wb') as output:\n",
    "    for result_history in results:\n",
    "        pickle.dump(result_history, output, pickle.HIGHEST_PROTOCOL)"
   ]
  },
  {
   "cell_type": "markdown",
   "metadata": {},
   "source": [
    "#### Plot summary statistics of the best validation loss and accuracy versus the number of hidden layers"
   ]
  },
  {
   "cell_type": "code",
   "execution_count": 42,
   "metadata": {
    "collapsed": true
   },
   "outputs": [],
   "source": [
    "# Extract best loss and accuracy for each (model, training)\n",
    "best_results = [[[min(res.history['val_loss']), max(res.history['val_acc'])] for res in model_res] for model_res in results]\n",
    "best_val_loss = [[res[0] for res in model_res] for model_res in best_results]\n",
    "best_val_acc = [[res[1] for res in model_res] for model_res in best_results]\n",
    "\n",
    "with open('exercise5-q2.json', 'w') as f:\n",
    "    json.dump(best_results, f)"
   ]
  },
  {
   "cell_type": "code",
   "execution_count": 44,
   "metadata": {},
   "outputs": [
    {
     "data": {
      "image/png": "[encoded data removed]",
      "text/plain": [
       "<matplotlib.figure.Figure at 0x18670ca320>"
      ]
     },
     "metadata": {},
     "output_type": "display_data"
    }
   ],
   "source": [
    "fig, ax = plt.subplots()\n",
    "ax.boxplot(best_val_loss)\n",
    "plt.title('Distribution of validation losses against number of hidden layers (fix # of params)')\n",
    "plt.xlabel('Number of hidden layers')\n",
    "plt.ylabel(\"Validation loss\")\n",
    "plt.show()"
   ]
  },
  {
   "cell_type": "code",
   "execution_count": 45,
   "metadata": {},
   "outputs": [
    {
     "data": {
      "image/png": "[encoded data removed]",
      "text/plain": [
       "<matplotlib.figure.Figure at 0x1867452940>"
      ]
     },
     "metadata": {},
     "output_type": "display_data"
    }
   ],
   "source": [
    "fig, ax = plt.subplots()\n",
    "ax.boxplot(best_val_acc)\n",
    "plt.title('Distribution of validation accuracies against number of hidden layers (fix # of params)')\n",
    "plt.xlabel('Number of hidden layers')\n",
    "plt.ylabel(\"Validation accuracy\")\n",
    "plt.show()"
   ]
  },
  {
   "cell_type": "markdown",
   "metadata": {},
   "source": [
    "## Exercise 6: Tricks (regularization, batch normalization, dropout)\n",
    "\n",
    "### Description\n",
    "\n",
    "Overfitting can also be counteracted with regularization and dropout. Batch normalization is supposed to mainly decrease convergence time.\n",
    "\n",
    "1. Try to improve the best validation scores of the model with 1 layer and 100 hidden neurons and the model with 4 hidden layers. Experiment with batch_normalization layers, dropout layers and l1- and l2-regularization on weights (kernels) and biases.\n",
    "2. After you have found good settings, plot for both models the learning curves of the naive model you fitted in the previous exercises together with the learning curves of the current version.\n",
    "3. For proper comparison, plot also the learning curves of the two current models in a third figure.\n",
    "\n",
    "### Solution"
   ]
  },
  {
   "cell_type": "markdown",
   "metadata": {},
   "source": [
    "#### Question 1"
   ]
  },
  {
   "cell_type": "markdown",
   "metadata": {},
   "source": [
    "#### Tuning the regularizer parameters"
   ]
  },
  {
   "cell_type": "markdown",
   "metadata": {},
   "source": [
    "An initial investigation gave good results for a bias regularizer of 0.8. We thus perform another grid search around this value."
   ]
  },
  {
   "cell_type": "markdown",
   "metadata": {},
   "source": [
    "#### Bias Reguarization"
   ]
  },
  {
   "cell_type": "code",
   "execution_count": null,
   "metadata": {
    "collapsed": true
   },
   "outputs": [],
   "source": [
    "bias_regularizers_l1 = np.linspace(10**(-6), 10**(-4), 5)\n",
    "bias_regularizers_l2 = np.linspace(10**(-6), 10**(-4), 5)\n",
    "\n",
    "\n",
    "l1_bias_reg_history = {}\n",
    "\n",
    "for l1_bias_reg in tqdm(bias_regularizers_l1):\n",
    "    model = model_1_hidden_factory(bias_regularizer=keras.regularizers.l1(l1_bias_reg))\n",
    "    compile_model(model)\n",
    "    l1_bias_reg_history[('1', l1_bias_reg)] = fit_model(model)\n",
    "    \n",
    "    model = model_4_hidden_factory(bias_regularizer=keras.regularizers.l1(l1_bias_reg))\n",
    "    compile_model(model)\n",
    "    l1_bias_reg_history[('4', l1_bias_reg)] = fit_model(model)\n",
    "    \n",
    "l2_bias_reg_history = {}\n",
    "    \n",
    "for l2_bias_reg in tqdm(bias_regularizers_l2):\n",
    "    model = model_1_hidden_factory(bias_regularizer=keras.regularizers.l2(l2_bias_reg))\n",
    "    compile_model(model)\n",
    "    l2_bias_reg_history[('1', l2_bias_reg)] = fit_model(model)\n",
    "    \n",
    "    model = model_4_hidden_factory(bias_regularizer=keras.regularizers.l2(l2_bias_reg))\n",
    "    compile_model(model)\n",
    "    l2_bias_reg_history[('4', l2_bias_reg)] = fit_model(model)\n",
    "    \n",
    "bias_reg_history = {'l1': l1_bias_reg_history, 'l2': l2_bias_reg_history}\n",
    "with open('q6-bias_reg.pickle', 'wb') as f:\n",
    "    pickle.dump(bias_reg_history, f)"
   ]
  },
  {
   "cell_type": "code",
   "execution_count": null,
   "metadata": {
    "collapsed": true
   },
   "outputs": [],
   "source": [
    "h4_bias_best_l1 = max(l1_bias_reg_history.keys(), key=lambda k: max(l1_bias_reg_history[('4', k[1])].history['val_acc']))\n",
    "h4_bias_best_l2 = max(l2_bias_reg_history.keys(), key=lambda k: max(l2_bias_reg_history[('4', k[1])].history['val_acc']))\n",
    "\n",
    "h1_bias_best_l1 = max(l1_bias_reg_history.keys(), key=lambda k: max(l1_bias_reg_history[('1', k[1])].history['val_acc']))\n",
    "h1_bias_best_l2 = max(l2_bias_reg_history.keys(), key=lambda k: max(l1_bias_reg_history[('1', k[1])].history['val_acc']))"
   ]
  },
  {
   "cell_type": "code",
   "execution_count": null,
   "metadata": {
    "collapsed": true
   },
   "outputs": [],
   "source": [
    "h4_bias_best_l1, h4_bias_best_l2, h1_bias_best_l1, h1_bias_best_l2"
   ]
  },
  {
   "cell_type": "markdown",
   "metadata": {},
   "source": [
    "#### Weight Regularization"
   ]
  },
  {
   "cell_type": "code",
   "execution_count": null,
   "metadata": {
    "collapsed": true
   },
   "outputs": [],
   "source": [
    "weight_regularizers_l1 = np.linspace(10**(-6), 10**(-4), 5)\n",
    "weight_regularizers_l2 = np.linspace(10**(-6), 10**(-4), 5)\n",
    "\n",
    "\n",
    "l1_weight_reg_history = {}\n",
    "\n",
    "for l1_weight_reg in tqdm(weight_regularizers_l1):\n",
    "    model = model_1_hidden_factory(weight_regularizer=keras.regularizers.l1(l1_weight_reg))\n",
    "    compile_model(model)\n",
    "    l1_weight_reg_history[('1', l1_weight_reg)] = fit_model(model).history\n",
    "    \n",
    "    model = model_4_hidden_factory(weight_regularizer=keras.regularizers.l1(l1_weight_reg))\n",
    "    compile_model(model)\n",
    "    l1_weight_reg_history[('4', l1_weight_reg)] = fit_model(model).history\n",
    "    \n",
    "l2_weight_reg_history = {}\n",
    "    \n",
    "for l2_weight_reg in tqdm(weight_regularizers_l2):\n",
    "    model = model_1_hidden_factory(weight_regularizer=keras.regularizers.l2(l2_weight_reg))\n",
    "    compile_model(model)\n",
    "    l2_weight_reg_history[('1', l2_weight_reg)] = fit_model(model).history\n",
    "    \n",
    "    model = model_4_hidden_factory(weight_regularizer=keras.regularizers.l2(l2_weight_reg))\n",
    "    compile_model(model)\n",
    "    l2_weight_reg_history[('4', l2_weight_reg)] = fit_model(model).history\n",
    "    \n",
    "weight_reg_history = {'l1' : l1_weight_reg_history, 'l2': l2_weight_reg_history}\n",
    "with open('q6-weight_reg.pickle', 'wb') as f:\n",
    "    pickle.dump(weight_reg_history, f)"
   ]
  },
  {
   "cell_type": "markdown",
   "metadata": {},
   "source": [
    "#### Batch Normalization"
   ]
  },
  {
   "cell_type": "markdown",
   "metadata": {},
   "source": [
    "We use the default values for the batch normalization class"
   ]
  },
  {
   "cell_type": "code",
   "execution_count": null,
   "metadata": {
    "collapsed": true
   },
   "outputs": [],
   "source": [
    "batch_norm_results = {}\n",
    "\n",
    "batch_norm_model = model_1_hidden_factory(batch_normalization=[])\n",
    "compile_model(batch_norm_model)\n",
    "batch_norm_results['1'] = fit_model(batch_norm_model)\n",
    "\n",
    "    \n",
    "batch_norm_model = model_4_hidden_factory(batch_normalization=[])\n",
    "compile_model(batch_norm_model)\n",
    "batch_norm_results['4'] = fit_model(batch_norm_model)\n",
    "\n",
    "with open('q6-batch_norm.pickle', 'wb') as f:\n",
    "    pickle.dump(batch_norm_results, f)"
   ]
  },
  {
   "cell_type": "markdown",
   "metadata": {},
   "source": [
    "#### Dropout"
   ]
  },
  {
   "cell_type": "markdown",
   "metadata": {},
   "source": [
    "The dropout probabilities used here are the ones suggested in the Deeplearning book"
   ]
  },
  {
   "cell_type": "code",
   "execution_count": null,
   "metadata": {
    "collapsed": true
   },
   "outputs": [],
   "source": [
    "dropout_results = {}\n",
    "\n",
    "dropout_model = model_1_hidden_factory(dropout=0.8, input_dropout=0.2)\n",
    "compile_model(dropout_model)\n",
    "dropout_results['1'] = fit_model(dropout_model)\n",
    "\n",
    "    \n",
    "dropout_model = model_4_hidden_factory(dropout=0.8, input_dropout=0.2)\n",
    "compile_model(dropout_model)\n",
    "dropout_results['4'] = fit_model(dropout_model)\n",
    "\n",
    "with open('q6-dropout.pickle', 'w') as f:\n",
    "    pickle.dump(dropout_results, f)"
   ]
  },
  {
   "cell_type": "markdown",
   "metadata": {},
   "source": [
    "#### Question 2"
   ]
  },
  {
   "cell_type": "code",
   "execution_count": null,
   "metadata": {
    "collapsed": true
   },
   "outputs": [],
   "source": [
    "plot_history(results[0][model_1H_best_params], 'Enhanced 1 hidden layer neural net learning curves')"
   ]
  },
  {
   "cell_type": "code",
   "execution_count": null,
   "metadata": {
    "collapsed": true
   },
   "outputs": [],
   "source": [
    "plot_history(results[1][model_4H_best_params], 'Enhanced 4 hidden layer neural net learning curves')"
   ]
  },
  {
   "cell_type": "markdown",
   "metadata": {},
   "source": [
    "## Exercise 7: Convolutional networks\n",
    "\n",
    "### Description\n",
    "\n",
    "Convolutional neural networks have an inductive bias that is well adapted to image classification.\n",
    "\n",
    "1. Design a convolutional neural network, play with the parameters and fit it. Hint: You may get valuable inspiration from the keras [examples](https://github.com/keras-team/keras/tree/master/examples), e.g. [mnist_cnn](https://github.com/keras-team/keras/blob/master/examples/mnist_cnn.py).\n",
    "2. Plot the learning curves of the convolutional neural network together with the so far best performing model.\n",
    "\n",
    "## Solution"
   ]
  },
  {
   "cell_type": "code",
   "execution_count": null,
   "metadata": {
    "collapsed": true
   },
   "outputs": [],
   "source": [
    "train_tensor = np.reshape(x_train, (x_train.shape[0], 16, 16, 1))\n",
    "test_tensor = np.reshape(x_test, (x_test.shape[0], 16, 16, 1))"
   ]
  },
  {
   "cell_type": "code",
   "execution_count": null,
   "metadata": {
    "collapsed": true,
    "scrolled": false
   },
   "outputs": [],
   "source": [
    "cnn = Sequential([\n",
    "    Conv2D(32, kernel_size=(3, 3), activation='relu', input_shape=train_tensor.shape[1:]),\n",
    "    Conv2D(64, (3, 3), activation='relu'),\n",
    "    MaxPooling2D(pool_size=(2, 2)),\n",
    "    Dropout(0.25),\n",
    "    Flatten(),\n",
    "    Dense(128, activation='relu'),\n",
    "    Dropout(0.5),\n",
    "    Dense(y_train.shape[1], activation='softmax')\n",
    "])"
   ]
  },
  {
   "cell_type": "code",
   "execution_count": null,
   "metadata": {
    "collapsed": true
   },
   "outputs": [],
   "source": [
    "cnn.compile(loss=keras.losses.categorical_crossentropy,\n",
    "           optimizer=keras.optimizers.Adadelta(),\n",
    "           metrics=['accuracy'])"
   ]
  },
  {
   "cell_type": "code",
   "execution_count": null,
   "metadata": {
    "collapsed": true
   },
   "outputs": [],
   "source": [
    "cnn.fit(\n",
    "    train_tensor, y_train,\n",
    "    validation_data=(test_tensor, y_test),\n",
    "    epochs=20    \n",
    ")"
   ]
  }
 ],
 "metadata": {
  "kernelspec": {
   "display_name": "Python 3",
   "language": "python",
   "name": "python3"
  },
  "language_info": {
   "codemirror_mode": {
    "name": "ipython",
    "version": 3
   },
   "file_extension": ".py",
   "mimetype": "text/x-python",
   "name": "python",
   "nbconvert_exporter": "python",
   "pygments_lexer": "ipython3",
   "version": "3.6.3"
  }
 },
 "nbformat": 4,
 "nbformat_minor": 2
}
